{
  "nbformat": 4,
  "nbformat_minor": 0,
  "metadata": {
    "colab": {
      "name": "2022-2",
      "provenance": [],
      "authorship_tag": "ABX9TyO0ZBAnQhaltL6xd5XiIA7G",
      "include_colab_link": true
    },
    "kernelspec": {
      "name": "python3",
      "display_name": "Python 3"
    },
    "language_info": {
      "name": "python"
    }
  },
  "cells": [
    {
      "cell_type": "markdown",
      "metadata": {
        "id": "view-in-github",
        "colab_type": "text"
      },
      "source": [
        "<a href=\"https://colab.research.google.com/github/jmtrianaa/conexion/blob/main/2022_2.ipynb\" target=\"_parent\"><img src=\"https://colab.research.google.com/assets/colab-badge.svg\" alt=\"Open In Colab\"/></a>"
      ]
    },
    {
      "cell_type": "code",
      "execution_count": null,
      "metadata": {
        "colab": {
          "base_uri": "https://localhost:8080/"
        },
        "id": "Iv2aS6wAt34t",
        "outputId": "52aafe3e-dda5-4e1d-9c8e-dc195eef871b"
      },
      "outputs": [
        {
          "output_type": "stream",
          "name": "stdout",
          "text": [
            "son iguales\n"
          ]
        }
      ],
      "source": [
        "a=5 \n",
        "if a==5:\n",
        "  print(\"son iguales\")\n",
        "else:\n",
        "  print(\"No son iguales\")"
      ]
    },
    {
      "cell_type": "markdown",
      "source": [
        "Captura de datos"
      ],
      "metadata": {
        "id": "YlyoSmAxyfAC"
      }
    },
    {
      "cell_type": "code",
      "source": [
        "a=1\n",
        "num=int(input(\"Digite cantidad de tablas\"))\n",
        "while a<=num:\n",
        "     b=1\n",
        "     while b<=3:\n",
        "         p= a*b\n",
        "         print(a,\"*\",\"b\",b,\"=\",p)\n",
        "         b=b+1  "
      ],
      "metadata": {
        "id": "28youY6rvEvd"
      },
      "execution_count": null,
      "outputs": []
    },
    {
      "cell_type": "markdown",
      "source": [
        "Listas"
      ],
      "metadata": {
        "id": "nkM1O02w0-zb"
      }
    },
    {
      "cell_type": "code",
      "source": [
        "list=['Analitica', ' Mineria',20,30]\n",
        "print(list)\n",
        "print(\"posicion 0\", list[0])\n",
        "list2=[1,2,3,4,5]\n",
        "print(list[2:3])\n",
        "a=len(list2)\n",
        "print(a)\n",
        "maximo=max(list2)\n",
        "minimo=min(list2)\n",
        "print(maximo)\n",
        "print(minimo)\n"
      ],
      "metadata": {
        "colab": {
          "base_uri": "https://localhost:8080/"
        },
        "id": "K6BqTGJ1yd7U",
        "outputId": "2dd8c782-ebab-4bc9-e048-27e2a8188be9"
      },
      "execution_count": null,
      "outputs": [
        {
          "output_type": "stream",
          "name": "stdout",
          "text": [
            "['Analitica', ' Mineria', 20, 30]\n",
            "posicion 0 Analitica\n",
            "[20]\n",
            "5\n",
            "5\n",
            "1\n"
          ]
        }
      ]
    },
    {
      "cell_type": "markdown",
      "source": [
        "Diccionario"
      ],
      "metadata": {
        "id": "6LhQoHd91Bqi"
      }
    },
    {
      "cell_type": "code",
      "source": [
        "dic={ 1: 'America','titulos':12,}\n",
        "print(dic[1]),\n",
        "print(dic['titulos'])\n",
        "dic['titulos']=8\n",
        "del dic[1]"
      ],
      "metadata": {
        "colab": {
          "base_uri": "https://localhost:8080/"
        },
        "id": "wZEEnciA1F9b",
        "outputId": "d32dc02c-5c81-4bda-b27e-1d3d1ea71503"
      },
      "execution_count": null,
      "outputs": [
        {
          "output_type": "stream",
          "name": "stdout",
          "text": [
            "America\n",
            "12\n"
          ]
        }
      ]
    },
    {
      "cell_type": "markdown",
      "source": [
        "numpy"
      ],
      "metadata": {
        "id": "pD6aFg1H3EIb"
      }
    },
    {
      "cell_type": "code",
      "source": [
        "import numpy as np\n",
        "a = np.array([5,7,9,3])\n",
        "print (a)\n",
        "i=1\n",
        "while i< len(a):\n",
        "    print(a [i])"
      ],
      "metadata": {
        "id": "fjVO55IT3KZ7"
      },
      "execution_count": null,
      "outputs": []
    },
    {
      "cell_type": "code",
      "source": [
        "import numpy as np\n",
        "b = np.array ([[2,7,5,9],[1,3,6,4]])\n",
        "print (b)\n",
        "fil=0\n",
        "while fil<2:\n",
        "  col=0\n",
        "  while col<3:\n",
        "    print(b[fil,0])\n",
        "    col=col+1\n",
        "    fil=fil+1\n",
        "b[1][2]=25\n",
        "print(b)\n",
        "\n",
        "d= b.reshape(4,2)\n",
        "print(d);"
      ],
      "metadata": {
        "id": "81MP3c4l4Ynr"
      },
      "execution_count": null,
      "outputs": []
    },
    {
      "cell_type": "code",
      "source": [
        "import numpy as np\n",
        "b = np.array ([[2,7,5,9],[1,3,6,4]])\n",
        "d= b.reshape(4,2)\n",
        "print(d);"
      ],
      "metadata": {
        "id": "yYFybhkK6vAL"
      },
      "execution_count": null,
      "outputs": []
    },
    {
      "cell_type": "code",
      "source": [
        "import numpy as np\n",
        "b = np.array ([[2,7,5,9],[1,3,6,4]])\n",
        "f= np.arange(24)\n",
        "print(f);"
      ],
      "metadata": {
        "colab": {
          "base_uri": "https://localhost:8080/"
        },
        "id": "_HSdXdO97YLz",
        "outputId": "657663eb-1ff3-436d-c283-107fe3f3ca26"
      },
      "execution_count": null,
      "outputs": [
        {
          "output_type": "stream",
          "name": "stdout",
          "text": [
            "[ 0  1  2  3  4  5  6  7  8  9 10 11 12 13 14 15 16 17 18 19 20 21 22 23]\n"
          ]
        }
      ]
    },
    {
      "cell_type": "code",
      "source": [
        "for x in 'Programando':\n",
        "  print(x, end=' ')"
      ],
      "metadata": {
        "colab": {
          "base_uri": "https://localhost:8080/"
        },
        "id": "kHaDE8AN0JU7",
        "outputId": "e0ce6cea-8ba3-4fea-daf1-18485f15d00e"
      },
      "execution_count": null,
      "outputs": [
        {
          "output_type": "stream",
          "name": "stdout",
          "text": [
            "P r o g r a m a n d o "
          ]
        }
      ]
    },
    {
      "cell_type": "code",
      "source": [
        "for x in range (5,10):\n",
        "  print(x, end=' ')\n"
      ],
      "metadata": {
        "colab": {
          "base_uri": "https://localhost:8080/"
        },
        "id": "vsg3DqdY0mia",
        "outputId": "7c04afb8-dede-40b7-c17f-74a16963f831"
      },
      "execution_count": null,
      "outputs": [
        {
          "output_type": "stream",
          "name": "stdout",
          "text": [
            "5 6 7 8 9 "
          ]
        }
      ]
    },
    {
      "cell_type": "code",
      "source": [
        "for x in range (5,20,2):\n",
        "  print(x, end=' ')"
      ],
      "metadata": {
        "colab": {
          "base_uri": "https://localhost:8080/"
        },
        "id": "DY5zaeP60y0R",
        "outputId": "f7b755c6-9536-4d13-d45c-0979b0e908a7"
      },
      "execution_count": null,
      "outputs": [
        {
          "output_type": "stream",
          "name": "stdout",
          "text": [
            "5 7 9 11 13 15 17 19 "
          ]
        }
      ]
    },
    {
      "cell_type": "code",
      "source": [
        "for x in range (10):\n",
        "  print(x, end=' ')"
      ],
      "metadata": {
        "colab": {
          "base_uri": "https://localhost:8080/"
        },
        "id": "F6LNYzdt05gB",
        "outputId": "c390bcf6-9766-46e8-8039-d612b83c9a42"
      },
      "execution_count": null,
      "outputs": [
        {
          "output_type": "stream",
          "name": "stdout",
          "text": [
            "0 1 2 3 4 5 6 7 8 9 "
          ]
        }
      ]
    },
    {
      "cell_type": "code",
      "source": [
        "for x in range (10,0,-2):\n",
        "  print(x, end=' ')"
      ],
      "metadata": {
        "colab": {
          "base_uri": "https://localhost:8080/"
        },
        "id": "mb8MyNmK1AHR",
        "outputId": "52b62452-7647-44f5-84be-8b0b2e596b05"
      },
      "execution_count": null,
      "outputs": [
        {
          "output_type": "stream",
          "name": "stdout",
          "text": [
            "10 8 6 4 2 "
          ]
        }
      ]
    },
    {
      "cell_type": "code",
      "source": [
        "for x in range (10):\n",
        "  if x==7:\n",
        "    break\n",
        "  print(x)"
      ],
      "metadata": {
        "colab": {
          "base_uri": "https://localhost:8080/"
        },
        "id": "emBBVD631Xg5",
        "outputId": "52cd9cce-d4b4-4532-f49c-6ccdbdfc4bb9"
      },
      "execution_count": null,
      "outputs": [
        {
          "output_type": "stream",
          "name": "stdout",
          "text": [
            "0\n",
            "1\n",
            "2\n",
            "3\n",
            "4\n",
            "5\n",
            "6\n"
          ]
        }
      ]
    },
    {
      "cell_type": "code",
      "source": [
        "for x in range (10):\n",
        "  if x==7:\n",
        "    continue\n",
        "  print(x, end=' ')"
      ],
      "metadata": {
        "colab": {
          "base_uri": "https://localhost:8080/"
        },
        "id": "UI8IhsGm1m5S",
        "outputId": "2e475394-6f65-4897-8401-8cb9e2c34dcd"
      },
      "execution_count": null,
      "outputs": [
        {
          "output_type": "stream",
          "name": "stdout",
          "text": [
            "0 1 2 3 4 5 6 8 9 "
          ]
        }
      ]
    },
    {
      "cell_type": "code",
      "source": [
        "con=0\n",
        "sum=0\n",
        "vec=[2,4,5,9,7]\n",
        "for x in vec:\n",
        "  sum=sum + x\n",
        "  con=con + 1\n",
        "print(sum, end ='')\n",
        "prom = sum/con\n",
        "print(prom, end='')"
      ],
      "metadata": {
        "colab": {
          "base_uri": "https://localhost:8080/"
        },
        "id": "qKYEQEG415nz",
        "outputId": "a7712c67-8d54-4462-8177-11d6f9bc4a94"
      },
      "execution_count": null,
      "outputs": [
        {
          "output_type": "stream",
          "name": "stdout",
          "text": [
            "275.4"
          ]
        }
      ]
    },
    {
      "cell_type": "code",
      "source": [
        "genero = 'hombre'\n",
        "edad = 60\n",
        "if genero=='hombre' and edad>=60:\n",
        "  print(\"vejez\")"
      ],
      "metadata": {
        "colab": {
          "base_uri": "https://localhost:8080/"
        },
        "id": "7nObrj0u3Bly",
        "outputId": "92243a3d-52a7-4cf4-c239-2a7febcc3dfd"
      },
      "execution_count": null,
      "outputs": [
        {
          "output_type": "stream",
          "name": "stdout",
          "text": [
            "vejez\n"
          ]
        }
      ]
    },
    {
      "cell_type": "code",
      "source": [
        "promedio=7.1\n",
        "nota = 2\n",
        "if prom >7.0 or nota >=3:\n",
        "  print(\"aprobo\")\n",
        "else:\n",
        "  print(\"reprobo\")"
      ],
      "metadata": {
        "colab": {
          "base_uri": "https://localhost:8080/"
        },
        "id": "5YTNfsNg3ZOj",
        "outputId": "5f7725ad-2614-4b21-8dd0-892fe0cca17c"
      },
      "execution_count": null,
      "outputs": [
        {
          "output_type": "stream",
          "name": "stdout",
          "text": [
            "reprobo\n"
          ]
        }
      ]
    },
    {
      "cell_type": "code",
      "source": [
        "nota=8\n",
        "if not nota==7:\n",
        "  print(\"nota diferente 1\")"
      ],
      "metadata": {
        "colab": {
          "base_uri": "https://localhost:8080/"
        },
        "id": "qdj-QhJY4Lc0",
        "outputId": "ca8af96e-ed95-44b4-edb5-d9759beac367"
      },
      "execution_count": null,
      "outputs": [
        {
          "output_type": "stream",
          "name": "stdout",
          "text": [
            "nota diferente 1\n"
          ]
        }
      ]
    },
    {
      "cell_type": "markdown",
      "source": [
        "Funciones estadistica"
      ],
      "metadata": {
        "id": "ZhG9k5SU42LK"
      }
    },
    {
      "cell_type": "code",
      "source": [
        "print(min(5,7,9,2,8,3))"
      ],
      "metadata": {
        "colab": {
          "base_uri": "https://localhost:8080/"
        },
        "id": "zs9ZMFvJ4yGy",
        "outputId": "e75b354d-e30d-4d83-893a-9d49fd18ca8f"
      },
      "execution_count": null,
      "outputs": [
        {
          "output_type": "stream",
          "name": "stdout",
          "text": [
            "2\n"
          ]
        }
      ]
    },
    {
      "cell_type": "code",
      "source": [
        "max(9,3,20,12,19)"
      ],
      "metadata": {
        "colab": {
          "base_uri": "https://localhost:8080/"
        },
        "id": "lpEftal75DJy",
        "outputId": "38635654-a32c-46fa-e1f2-46e741373e35"
      },
      "execution_count": null,
      "outputs": [
        {
          "output_type": "execute_result",
          "data": {
            "text/plain": [
              "20"
            ]
          },
          "metadata": {},
          "execution_count": 28
        }
      ]
    },
    {
      "cell_type": "code",
      "source": [
        "import statistics\n",
        "import math\n",
        "datos=[9,8,3,5]\n",
        "x= sum (datos)"
      ],
      "metadata": {
        "id": "Aix2oBH15U4i"
      },
      "execution_count": null,
      "outputs": []
    },
    {
      "cell_type": "code",
      "source": [
        "datos=[5,7,11,9,2]\n",
        "statistics.mean (datos)"
      ],
      "metadata": {
        "colab": {
          "base_uri": "https://localhost:8080/"
        },
        "id": "Q_N05De96V1a",
        "outputId": "a015bef3-3022-482f-b259-424893f59ffe"
      },
      "execution_count": null,
      "outputs": [
        {
          "output_type": "execute_result",
          "data": {
            "text/plain": [
              "6.8"
            ]
          },
          "metadata": {},
          "execution_count": 3
        }
      ]
    },
    {
      "cell_type": "code",
      "source": [
        "datos=[5,7,11,9,2]\n",
        "statistics.median (datos)"
      ],
      "metadata": {
        "colab": {
          "base_uri": "https://localhost:8080/"
        },
        "id": "4mTtvfZn67O6",
        "outputId": "08b96386-a065-49cd-cd7f-7375350cce96"
      },
      "execution_count": null,
      "outputs": [
        {
          "output_type": "execute_result",
          "data": {
            "text/plain": [
              "7"
            ]
          },
          "metadata": {},
          "execution_count": 23
        }
      ]
    },
    {
      "cell_type": "code",
      "source": [
        "datos=[9,8,3,5]\n",
        "statistics.median (datos)"
      ],
      "metadata": {
        "colab": {
          "base_uri": "https://localhost:8080/"
        },
        "id": "WX7eVmE07Z1K",
        "outputId": "5c3eca7e-6088-4ea9-add7-3201206720ec"
      },
      "execution_count": null,
      "outputs": [
        {
          "output_type": "execute_result",
          "data": {
            "text/plain": [
              "6.5"
            ]
          },
          "metadata": {},
          "execution_count": 24
        }
      ]
    },
    {
      "cell_type": "code",
      "source": [
        "datos=[5,7,11,9,5]\n",
        "statistics.mode (datos)"
      ],
      "metadata": {
        "colab": {
          "base_uri": "https://localhost:8080/"
        },
        "id": "0Cd_DtUL75TC",
        "outputId": "90a832d5-4a38-4ca3-a96c-d9ded58f4710"
      },
      "execution_count": null,
      "outputs": [
        {
          "output_type": "execute_result",
          "data": {
            "text/plain": [
              "5"
            ]
          },
          "metadata": {},
          "execution_count": 25
        }
      ]
    },
    {
      "cell_type": "code",
      "source": [
        "datos=[5,7,11,9,5]\n",
        "sorted(datos)"
      ],
      "metadata": {
        "id": "8uYiU5Ys8KFh"
      },
      "execution_count": null,
      "outputs": []
    },
    {
      "cell_type": "code",
      "source": [
        "def cuadrado(num):\n",
        "  return num ** 2\n",
        "cuadrado(3)"
      ],
      "metadata": {
        "colab": {
          "base_uri": "https://localhost:8080/"
        },
        "id": "HG56O1Je8pFn",
        "outputId": "21e5bc6e-bc45-462c-b822-55d6cc0feb6b"
      },
      "execution_count": null,
      "outputs": [
        {
          "output_type": "execute_result",
          "data": {
            "text/plain": [
              "9"
            ]
          },
          "metadata": {},
          "execution_count": 46
        }
      ]
    },
    {
      "cell_type": "code",
      "source": [
        "def mayor(n1,n2,n3):\n",
        "  may=n1\n",
        "  if n2>may:\n",
        "    may=n2\n",
        "  if n3>may:\n",
        "    may=n3\n",
        "    return may\n",
        "mayor(1,2,3)"
      ],
      "metadata": {
        "colab": {
          "base_uri": "https://localhost:8080/"
        },
        "id": "C-_urs-09B2Z",
        "outputId": "c9e4f450-9c7f-4f12-8f6e-97c0ebd95d46"
      },
      "execution_count": null,
      "outputs": [
        {
          "output_type": "execute_result",
          "data": {
            "text/plain": [
              "3"
            ]
          },
          "metadata": {},
          "execution_count": 47
        }
      ]
    },
    {
      "cell_type": "code",
      "source": [
        "x= lambda a:a+5\n",
        "print(x(7))\n",
        "print(x(9))\n",
        "\n"
      ],
      "metadata": {
        "colab": {
          "base_uri": "https://localhost:8080/"
        },
        "id": "hHeM2OKY9uUK",
        "outputId": "e48365c5-5cfc-4da8-b678-47c4decba704"
      },
      "execution_count": null,
      "outputs": [
        {
          "output_type": "stream",
          "name": "stdout",
          "text": [
            "12\n",
            "14\n"
          ]
        }
      ]
    },
    {
      "cell_type": "code",
      "source": [
        "y= lambda a,b: a*b\n",
        "print(y(2,3))\n",
        "print(x(9))\n",
        "\n"
      ],
      "metadata": {
        "colab": {
          "base_uri": "https://localhost:8080/"
        },
        "id": "1c3ZtfyN-IrJ",
        "outputId": "524c78d9-06e7-4675-b4ac-c7b8324f5aa7"
      },
      "execution_count": null,
      "outputs": [
        {
          "output_type": "stream",
          "name": "stdout",
          "text": [
            "6\n",
            "14\n"
          ]
        }
      ]
    },
    {
      "cell_type": "code",
      "source": [
        "z=lambda a,b,c: a+b+c\n",
        "print(z(1,2,3))"
      ],
      "metadata": {
        "colab": {
          "base_uri": "https://localhost:8080/"
        },
        "id": "KqWdsR6w-w7i",
        "outputId": "f3f8b13f-f116-4a1f-9907-99085d32998a"
      },
      "execution_count": null,
      "outputs": [
        {
          "output_type": "stream",
          "name": "stdout",
          "text": [
            "6\n"
          ]
        }
      ]
    },
    {
      "cell_type": "markdown",
      "source": [
        "Randomicos"
      ],
      "metadata": {
        "id": "C4TAfKYm_AtZ"
      }
    },
    {
      "cell_type": "code",
      "source": [
        "import random\n",
        "for r in range(10):\n",
        "  print(random.randrange(3,7), end=' ')\n"
      ],
      "metadata": {
        "colab": {
          "base_uri": "https://localhost:8080/"
        },
        "id": "_z-0Ufu4_D6B",
        "outputId": "7290c09e-e11c-4463-c0a0-49a33ea45a34"
      },
      "execution_count": null,
      "outputs": [
        {
          "output_type": "stream",
          "name": "stdout",
          "text": [
            "6 6 5 6 4 5 3 5 3 4 "
          ]
        }
      ]
    },
    {
      "cell_type": "code",
      "source": [
        "f1=0\n",
        "f2=0\n",
        "f3=0\n",
        "f4=0\n",
        "f5=0\n",
        "f6=0\n",
        "for r in range(6000000):\n",
        "   valor = random.randrange(1,7)\n",
        "   if valor==1:\n",
        "     f1+=1\n",
        "   if valor==2:\n",
        "     f2+=1\n",
        "   if valor==3:\n",
        "     f3+=1\n",
        "   if valor==4:\n",
        "     f4+=1\n",
        "   if valor==5:\n",
        "     f5+=1\n",
        "   if valor==6:\n",
        "     f6+=1\n"
      ],
      "metadata": {
        "id": "c1-uOYVd_8bS"
      },
      "execution_count": null,
      "outputs": []
    },
    {
      "cell_type": "markdown",
      "source": [
        "Factoriales"
      ],
      "metadata": {
        "id": "Hb1M4hSED_3J"
      }
    },
    {
      "cell_type": "code",
      "source": [
        "factorial =1\n",
        "for r in range(5,0,-1):\n",
        "  factorial=factorial * 5\n",
        "print(factorial)"
      ],
      "metadata": {
        "colab": {
          "base_uri": "https://localhost:8080/"
        },
        "id": "jw16cQJiCAMh",
        "outputId": "5d1bc4e1-6fa8-4059-cd93-e99178f1a704"
      },
      "execution_count": null,
      "outputs": [
        {
          "output_type": "stream",
          "name": "stdout",
          "text": [
            "3125\n"
          ]
        }
      ]
    },
    {
      "cell_type": "code",
      "source": [
        "def factorial (numero):\n",
        "  if numero<=1:\n",
        "    return 1 \n",
        "  return numero * factorial(numero-1)\n",
        "\n",
        "factorial(5)"
      ],
      "metadata": {
        "colab": {
          "base_uri": "https://localhost:8080/"
        },
        "id": "lUGfqq_pC7sB",
        "outputId": "280c566d-9da3-429e-b7f4-24c6cc20a8aa"
      },
      "execution_count": null,
      "outputs": [
        {
          "output_type": "execute_result",
          "data": {
            "text/plain": [
              "120"
            ]
          },
          "metadata": {},
          "execution_count": 71
        }
      ]
    },
    {
      "cell_type": "code",
      "source": [
        "for i in range(11):\n",
        "  print(i,\"factorial\",factorial(i))"
      ],
      "metadata": {
        "colab": {
          "base_uri": "https://localhost:8080/"
        },
        "id": "E9hKRtCYDk_h",
        "outputId": "4e1d8076-e573-4124-daec-036d2a94dc19"
      },
      "execution_count": null,
      "outputs": [
        {
          "output_type": "stream",
          "name": "stdout",
          "text": [
            "0 factorial 1\n",
            "1 factorial 1\n",
            "2 factorial 2\n",
            "3 factorial 6\n",
            "4 factorial 24\n",
            "5 factorial 120\n",
            "6 factorial 720\n",
            "7 factorial 5040\n",
            "8 factorial 40320\n",
            "9 factorial 362880\n",
            "10 factorial 3628800\n"
          ]
        }
      ]
    },
    {
      "cell_type": "markdown",
      "source": [
        "NUMPY"
      ],
      "metadata": {
        "id": "00FEmjtPE8oZ"
      }
    },
    {
      "cell_type": "code",
      "source": [
        "from numpy.core.fromnumeric import reshape\n",
        "import numpy as np\n",
        "a= np.arange(0,60,5)\n",
        "print (a)\n",
        "b= a.reshape(3,4)\n",
        "print (b)\n",
        "\n"
      ],
      "metadata": {
        "colab": {
          "base_uri": "https://localhost:8080/"
        },
        "id": "0XOQNhz7E_IQ",
        "outputId": "c2482f06-ef7c-4fa8-cce5-82c1c0a0951e"
      },
      "execution_count": null,
      "outputs": [
        {
          "output_type": "stream",
          "name": "stdout",
          "text": [
            "[ 0  5 10 15 20 25 30 35 40 45 50 55]\n",
            "[[ 0  5 10 15]\n",
            " [20 25 30 35]\n",
            " [40 45 50 55]]\n"
          ]
        }
      ]
    },
    {
      "cell_type": "code",
      "source": [
        "from numpy.core.fromnumeric import reshape\n",
        "import numpy as np\n",
        "a= np.arange(0,60,5)\n",
        "print (a)\n",
        "b= a.reshape(3,4)\n",
        "print (b)\n",
        "d=b.T\n",
        "print(d)"
      ],
      "metadata": {
        "colab": {
          "base_uri": "https://localhost:8080/"
        },
        "id": "IfUKq09OFodR",
        "outputId": "d8067184-4937-4d5b-8375-7fd155b4a4c3"
      },
      "execution_count": null,
      "outputs": [
        {
          "output_type": "stream",
          "name": "stdout",
          "text": [
            "[ 0  5 10 15 20 25 30 35 40 45 50 55]\n",
            "[[ 0  5 10 15]\n",
            " [20 25 30 35]\n",
            " [40 45 50 55]]\n",
            "[[ 0 20 40]\n",
            " [ 5 25 45]\n",
            " [10 30 50]\n",
            " [15 35 55]]\n"
          ]
        }
      ]
    },
    {
      "cell_type": "markdown",
      "source": [
        "generar aleatoriamente "
      ],
      "metadata": {
        "id": "Y05H4fKvHu15"
      }
    },
    {
      "cell_type": "code",
      "source": [
        "arra = np.array([2,3])\n",
        "arrb = np.array([2,3])\n",
        "   \n",
        "suma = arra + arrb  \n",
        "print(suma)"
      ],
      "metadata": {
        "colab": {
          "base_uri": "https://localhost:8080/"
        },
        "id": "ZvzE-8I4HiVJ",
        "outputId": "40f12bcd-655c-4711-a948-413cf7022659"
      },
      "execution_count": null,
      "outputs": [
        {
          "output_type": "stream",
          "name": "stdout",
          "text": [
            "[4 6]\n"
          ]
        }
      ]
    },
    {
      "cell_type": "code",
      "source": [
        "arra = ([[1,2],[3,4],[5,6]])\n",
        "arrb = ([[1,2,3],[3,4,5]])\n",
        "   \n",
        "np.dot(arra,arrb)\n"
      ],
      "metadata": {
        "colab": {
          "base_uri": "https://localhost:8080/"
        },
        "id": "zexVlPvjKbJR",
        "outputId": "84c6c1c6-3289-44d4-ce5b-3461cbb073cb"
      },
      "execution_count": null,
      "outputs": [
        {
          "output_type": "execute_result",
          "data": {
            "text/plain": [
              "array([[ 7, 10, 13],\n",
              "       [15, 22, 29],\n",
              "       [23, 34, 45]])"
            ]
          },
          "metadata": {},
          "execution_count": 94
        }
      ]
    },
    {
      "cell_type": "code",
      "source": [
        "import numpy as np \n",
        "a1=np.array([1,2,3])\n",
        "print(a1)"
      ],
      "metadata": {
        "id": "z_GkfJ7fvXKM"
      },
      "execution_count": null,
      "outputs": []
    },
    {
      "cell_type": "code",
      "source": [
        "b1=np.array([[4,5,6],[8,10,12]])\n",
        "print(b1)"
      ],
      "metadata": {
        "colab": {
          "base_uri": "https://localhost:8080/"
        },
        "id": "35OmtH7bvqf-",
        "outputId": "d33edde3-d177-47e7-83be-e0fad1d49b21"
      },
      "execution_count": null,
      "outputs": [
        {
          "output_type": "stream",
          "name": "stdout",
          "text": [
            "[[ 4  5  6]\n",
            " [ 8 10 12]]\n"
          ]
        }
      ]
    },
    {
      "cell_type": "code",
      "source": [
        "c1=np.array([[[4,5,6],[8,10,12]],[[7,9,2],[7,11,9]]])\n",
        "print(c1)"
      ],
      "metadata": {
        "colab": {
          "base_uri": "https://localhost:8080/"
        },
        "id": "2qCg7MTSwtrd",
        "outputId": "f7df8560-8ac9-49d5-c541-67560d384eca"
      },
      "execution_count": null,
      "outputs": [
        {
          "output_type": "stream",
          "name": "stdout",
          "text": [
            "[[[ 4  5  6]\n",
            "  [ 8 10 12]]\n",
            "\n",
            " [[ 7  9  2]\n",
            "  [ 7 11  9]]]\n"
          ]
        }
      ]
    },
    {
      "cell_type": "code",
      "source": [
        "d1=np.zeros((2,3))\n",
        "print(d1)"
      ],
      "metadata": {
        "colab": {
          "base_uri": "https://localhost:8080/"
        },
        "id": "-8rRsXmxxj1U",
        "outputId": "815ffefa-c66e-47df-9505-2ede10c29269"
      },
      "execution_count": null,
      "outputs": [
        {
          "output_type": "stream",
          "name": "stdout",
          "text": [
            "[[0. 0. 0.]\n",
            " [0. 0. 0.]]\n"
          ]
        }
      ]
    },
    {
      "cell_type": "code",
      "source": [
        "e=(np.identity(3))\n",
        "print(e)"
      ],
      "metadata": {
        "colab": {
          "base_uri": "https://localhost:8080/"
        },
        "id": "B_oxl824yL3s",
        "outputId": "12c93074-1c7b-4193-a2c8-a96e171bfac1"
      },
      "execution_count": null,
      "outputs": [
        {
          "output_type": "stream",
          "name": "stdout",
          "text": [
            "[[1. 0. 0.]\n",
            " [0. 1. 0.]\n",
            " [0. 0. 1.]]\n"
          ]
        }
      ]
    },
    {
      "cell_type": "code",
      "source": [
        "print(np.arange(1,10,2))\n"
      ],
      "metadata": {
        "colab": {
          "base_uri": "https://localhost:8080/"
        },
        "id": "ppi3jmf8yfZc",
        "outputId": "2bc243ba-bf80-4b2b-ec16-19e86c596ed0"
      },
      "execution_count": null,
      "outputs": [
        {
          "output_type": "stream",
          "name": "stdout",
          "text": [
            "[1 3 5 7 9]\n"
          ]
        }
      ]
    },
    {
      "cell_type": "code",
      "source": [
        "print(np.linspace(0,6,10))"
      ],
      "metadata": {
        "colab": {
          "base_uri": "https://localhost:8080/"
        },
        "id": "TgSWZ0MNy2RG",
        "outputId": "e092787d-9a31-4975-e877-ccded5a307e9"
      },
      "execution_count": null,
      "outputs": [
        {
          "output_type": "stream",
          "name": "stdout",
          "text": [
            "[0.         0.66666667 1.33333333 2.         2.66666667 3.33333333\n",
            " 4.         4.66666667 5.33333333 6.        ]\n"
          ]
        }
      ]
    },
    {
      "cell_type": "code",
      "source": [
        "g=np.random.random((2,3))\n",
        "print(g[0][1])\n",
        "print(g[1][2])\n"
      ],
      "metadata": {
        "colab": {
          "base_uri": "https://localhost:8080/"
        },
        "id": "Dsu_IejVzRbs",
        "outputId": "125c4dd6-f6a0-418d-cb12-4d060ffa3fb8"
      },
      "execution_count": null,
      "outputs": [
        {
          "output_type": "stream",
          "name": "stdout",
          "text": [
            "0.9246737622661917\n",
            "0.8454203725208396\n"
          ]
        }
      ]
    },
    {
      "cell_type": "code",
      "source": [
        "h=np.array([[1,2,3],[4,5,6]])\n",
        "f=h[(h % 2==0)&(h>2)]"
      ],
      "metadata": {
        "id": "CCS9kZeLz7KM"
      },
      "execution_count": null,
      "outputs": []
    },
    {
      "cell_type": "code",
      "source": [
        "k=np.array([1,2,3])\n",
        "r=np.array([1,0,1])\n",
        "print(k @ r)\n",
        "print(a.dot(b))"
      ],
      "metadata": {
        "colab": {
          "base_uri": "https://localhost:8080/"
        },
        "id": "0atpyqG419K8",
        "outputId": "416c21af-4d31-4ab9-aab0-2ba29ab684b6"
      },
      "execution_count": null,
      "outputs": [
        {
          "output_type": "stream",
          "name": "stdout",
          "text": [
            "4\n",
            "[list([1, 1, 1, 2, 2, 2, 2, 3, 3, 3, 3, 3, 3])\n",
            " list([1, 1, 1, 1, 1, 1, 1, 1, 1, 1, 1, 1, 2, 2, 2, 2, 2, 2, 2, 2, 2, 2, 3, 3, 3, 3, 3, 3, 3, 3, 3, 3, 3, 3])]\n"
          ]
        }
      ]
    },
    {
      "cell_type": "code",
      "source": [
        "a=np.array([[1,2,3],[4,5,6]])\n",
        "b=np.array([[1,1,1],[2,2],[3,3]])\n",
        "print(a @ b)\n",
        "print(a.dot(b))\n",
        "\n",
        "d=a.T\n",
        "print(d)"
      ],
      "metadata": {
        "id": "bEqv1jsX3K1k"
      },
      "execution_count": null,
      "outputs": []
    },
    {
      "cell_type": "code",
      "source": [
        "a=np.array([[1,2,3],[4,5,6],[7,8,9]])\n",
        "b=a.trace()\n",
        "print(b)\n",
        "\n",
        "determinante=np.linalg.det(a)\n",
        "print(determinante)"
      ],
      "metadata": {
        "colab": {
          "base_uri": "https://localhost:8080/"
        },
        "id": "7b5ZcOdQ4Fi2",
        "outputId": "c2fa6bd4-2bd0-4f64-d1dd-e1b86b50f484"
      },
      "execution_count": null,
      "outputs": [
        {
          "output_type": "stream",
          "name": "stdout",
          "text": [
            "15\n",
            "0.0\n"
          ]
        }
      ]
    },
    {
      "cell_type": "code",
      "source": [
        "d=np.array([[1,2],[3,4]])\n",
        "d=np.linalg.det(d)\n",
        "print(d)"
      ],
      "metadata": {
        "colab": {
          "base_uri": "https://localhost:8080/"
        },
        "id": "osiS-Kif5VRl",
        "outputId": "b5125975-534e-42a9-cae1-73b36911ef60"
      },
      "execution_count": null,
      "outputs": [
        {
          "output_type": "stream",
          "name": "stdout",
          "text": [
            "-2.0000000000000004\n"
          ]
        }
      ]
    },
    {
      "cell_type": "code",
      "source": [
        "a=np.array([[1,2],[3,4]])\n",
        "print(np.linalg.inv(a))"
      ],
      "metadata": {
        "colab": {
          "base_uri": "https://localhost:8080/"
        },
        "id": "TfxkQcql6zyN",
        "outputId": "427b1b98-39cd-41f3-cc8a-f8415f972e27"
      },
      "execution_count": null,
      "outputs": [
        {
          "output_type": "stream",
          "name": "stdout",
          "text": [
            "[[-2.   1. ]\n",
            " [ 1.5 -0.5]]\n"
          ]
        }
      ]
    },
    {
      "cell_type": "markdown",
      "source": [
        "Actividad para entregar la proxima clase, estudia!!!\n",
        "PYTHON\n",
        "1. Multiplicacion de matrices\n",
        "2. Matriz inversa \n",
        "3. Sistemas de ecuaciones lineales (programa)\n",
        "4. Media\n",
        "5. Mediana (pares e impares)\n",
        "6. Moda\n",
        "\n"
      ],
      "metadata": {
        "id": "duV8MoDh8jbc"
      }
    },
    {
      "cell_type": "markdown",
      "source": [
        "Informatica Forense\n",
        "\n",
        "*1.Adquisicion**\n",
        "1.1 Aislar los elementos\n",
        "1.2 Identificacion\n",
        "1.3 Extraer la informacion\n",
        "1.4 Clasificar la informacion\n",
        "\n",
        "*2.Analisis*\n",
        "2.1 Ordenar cronologicamente la informacion.\n",
        "2.2 Identificar las partes involucradas\n",
        "*   Hardware\n",
        "*   Red\n",
        "*   Software\n",
        "2.3 Afectacion\n",
        "\n",
        "*3.Informe*\n",
        "3.1 Definir el tipo de delito informatico"
      ],
      "metadata": {
        "id": "aULDU1vK4uyq"
      }
    },
    {
      "cell_type": "code",
      "source": [
        "import numpy as np\n",
        "\n",
        "A=np.array([[1,2],[3,4],[5,6]]) \n",
        "B=np.array([[1,2,3],[3,4,5]])\n",
        "\n",
        "np.dot(A,B)\n",
        "           \n",
        "\n"
      ],
      "metadata": {
        "id": "MIENEPKn3_Ri",
        "colab": {
          "base_uri": "https://localhost:8080/"
        },
        "outputId": "2cc3c02c-90d9-421a-aff3-7238cb672294"
      },
      "execution_count": null,
      "outputs": [
        {
          "output_type": "execute_result",
          "data": {
            "text/plain": [
              "array([[ 7, 10, 13],\n",
              "       [15, 22, 29],\n",
              "       [23, 34, 45]])"
            ]
          },
          "metadata": {},
          "execution_count": 9
        }
      ]
    },
    {
      "cell_type": "code",
      "source": [
        "import numpy as np\n",
        "\n",
        "arr = np.array([[1, 3], [5, 7]])\n",
        "\n",
        "arr_inv = np.linalg.inv(arr)\n",
        "\n",
        "print(arr_inv)"
      ],
      "metadata": {
        "id": "dvsaYsM6Px89"
      },
      "execution_count": null,
      "outputs": []
    },
    {
      "cell_type": "code",
      "source": [
        "import numpy as np\n",
        "\n",
        "a=np.array([[2,3,4],\n",
        "            [5,6,7],\n",
        "           [8,9,10]])\n",
        "\n",
        "median=np.median(a)\n",
        "\n",
        "print(median)"
      ],
      "metadata": {
        "id": "E8-dn0hUS2fc"
      },
      "execution_count": null,
      "outputs": []
    },
    {
      "cell_type": "code",
      "source": [
        "import numpy as np\n",
        "\n",
        "array= [10, 20, 30]\n",
        "print(\"1-D array :\", arr)\n",
        "print(\"Mean of arr is \", np.mean(arr))"
      ],
      "metadata": {
        "id": "VUi49oPHU3q0"
      },
      "execution_count": null,
      "outputs": []
    },
    {
      "cell_type": "code",
      "source": [
        "import numpy as np\n",
        "a=np.array([[2,4,6],[4,5,6],[3,1,-2]])\n",
        "b=np.array([18,24,4])\n",
        "x=np.linalg.solve(a,b)\n",
        "print(x)\n"
      ],
      "metadata": {
        "colab": {
          "base_uri": "https://localhost:8080/"
        },
        "id": "_1bsfagbWIAc",
        "outputId": "97433717-506a-4f6c-c50d-eb128fa66e97"
      },
      "execution_count": null,
      "outputs": [
        {
          "output_type": "stream",
          "name": "stdout",
          "text": [
            "[ 4. -2.  3.]\n"
          ]
        }
      ]
    },
    {
      "cell_type": "code",
      "source": [
        "\n",
        "grupo=[{\"cedula\": 12345, \"nombre\": \"moises\",\"nota_fundamentos\": 4},\n",
        "{\"cedula\": 6789,\"nombre\": \"juan\",\"nota_fundamentos\": 3.2},\n",
        "{\"cedula\": 1011,\"nombre\": \"pancho\",\"nota_fundamentos\": 5},\n",
        "{\"cedula\": 1213,\"nombre\": \"pp\",\"nota_fundamentos\": 5},\n",
        "{\"cedula\": 1415,\"nombre\": \"paco\",\"nota_fundamentos\": 3.3},\n",
        "{\"cedula\": 1617,\"nombre\": \"pedro\",\"nota_fundamentos\": 4},\n",
        "{\"cedula\": 1819,\"nombre\": \"pancho\",\"nota_fundamentos\": 4},]\n",
        "\n",
        "\n",
        "sumapromedios=0 #declaramos una variable para la suma de los promedios\n",
        "contadorestudiantes=0 #declaramos una variable para el contador de estudiantes \n",
        "\n",
        "\n",
        "for sumapromedio in grupo:#recorremos la lista\n",
        "    sumapromedios+=sumapromedio[\"nota_fundamentos\"]#sumamos los promedios\n",
        "    contadorestudiantes+=1#sumamos los estudiantes\n",
        "    promediofinal=sumapromedios/contadorestudiantes#calculamos el promedio final\n",
        "print(promediofinal)#imprimimos los promedios \n",
        "\n",
        "#mostrar los estudiantes con mayor promedio de fundamentos \n",
        "for estudiante in grupo:#recorremos la lista\n",
        "    if estudiante[\"nota_fundamentos\"]==max(grupo, key=lambda x: x[\"nota_fundamentos\"])[\"nota_fundamentos\"]:#condicion para mostrar los estudiantes con mayor promedio\n",
        "        print(estudiante[\"cedula\"])#imprimimos el nombre del estudiante\n",
        "\n"
      ],
      "metadata": {
        "id": "z8ZSB-eIad5n",
        "colab": {
          "base_uri": "https://localhost:8080/"
        },
        "outputId": "f7823e8b-053f-4f88-fe1b-6a9a12b13d88"
      },
      "execution_count": null,
      "outputs": [
        {
          "output_type": "stream",
          "name": "stdout",
          "text": [
            "4.071428571428571\n",
            "1011\n",
            "1213\n"
          ]
        }
      ]
    },
    {
      "cell_type": "markdown",
      "source": [
        "Pandas Lista Clase"
      ],
      "metadata": {
        "id": "CoaMabAQ3ADk"
      }
    },
    {
      "cell_type": "code",
      "source": [
        "import pandas as pd\n",
        "import matplotlib as plt\n",
        "\n",
        "df=pd.read_csv('/home/listaclase.csv')\n",
        "print(df)\n",
        "df.describe()"
      ],
      "metadata": {
        "colab": {
          "base_uri": "https://localhost:8080/",
          "height": 752
        },
        "id": "RHoNPCYg2Xu-",
        "outputId": "e595be75-8bc6-4235-fd2b-25beba90a931"
      },
      "execution_count": null,
      "outputs": [
        {
          "output_type": "stream",
          "name": "stdout",
          "text": [
            "               Nombre  Edad  Peso  Altura  Genero\n",
            "0      Roberto Alfaro    19    70    1.78  Hombre\n",
            "1    Laura Bustamante    19    57    1.60   Mujer\n",
            "2       Erick Estrada    20    65    1.74  Hombre\n",
            "3     Maria Dominguez    20    52    1.60   Mujer\n",
            "4        Jorge  Ortiz    20    60    1.70  Hombre\n",
            "5        Rosa Jimenez    21    56    1.53   Mujer\n",
            "6    Adolfo Hernandez    22    70    1.73  Hombre\n",
            "7      Adriana Garcia    23    72    1.71   Mujer\n",
            "8    Antonio Martinez    21    60    1.66  Hombre\n",
            "9        Alicia Lopez    19    62    1.65   Mujer\n",
            "10   Enrique Gonzalez    23    65    1.68  Hombre\n",
            "11        Elena Perez    24    59    1.61   Mujer\n",
            "12  Enrique Rodriguez    21    67    1.69  Hombre\n",
            "13       Lily Ramirez    23    55    1.50   Mujer\n",
            "14        Roxana Cruz    20    50    1.56   Mujer\n",
            "15     Paulina Flores    21    66    1.78   Mujer\n",
            "16       Samuel Gomez    21    67    1.71  Hombre\n",
            "17  Francisco  Huerta    21    71    1.75  Hombre\n",
            "18    Sergio Trujillo    19    73    1.78  Hombre\n",
            "19      Sofia Padilla    18    69    1.70   Mujer\n",
            "20     Tania Alvarado    24    70    1.70   Mujer\n",
            "21        Uriel Galan    25    76    1.79  Hombre\n",
            "22        Vanesa Diaz    25    63    1.63   Mujer\n",
            "23      Violeta Duran    24    49    1.56   Mujer\n",
            "24    Valentin Acosta    23    80    1.82  Hombre\n"
          ]
        },
        {
          "output_type": "execute_result",
          "data": {
            "text/plain": [
              "            Edad       Peso     Altura\n",
              "count  25.000000  25.000000  25.000000\n",
              "mean   21.440000  64.160000   1.678400\n",
              "std     2.042874   8.091559   0.086827\n",
              "min    18.000000  49.000000   1.500000\n",
              "25%    20.000000  59.000000   1.610000\n",
              "50%    21.000000  65.000000   1.700000\n",
              "75%    23.000000  70.000000   1.740000\n",
              "max    25.000000  80.000000   1.820000"
            ],
            "text/html": [
              "\n",
              "  <div id=\"df-682c4312-fbd2-410e-bb13-ec398ceb91eb\">\n",
              "    <div class=\"colab-df-container\">\n",
              "      <div>\n",
              "<style scoped>\n",
              "    .dataframe tbody tr th:only-of-type {\n",
              "        vertical-align: middle;\n",
              "    }\n",
              "\n",
              "    .dataframe tbody tr th {\n",
              "        vertical-align: top;\n",
              "    }\n",
              "\n",
              "    .dataframe thead th {\n",
              "        text-align: right;\n",
              "    }\n",
              "</style>\n",
              "<table border=\"1\" class=\"dataframe\">\n",
              "  <thead>\n",
              "    <tr style=\"text-align: right;\">\n",
              "      <th></th>\n",
              "      <th>Edad</th>\n",
              "      <th>Peso</th>\n",
              "      <th>Altura</th>\n",
              "    </tr>\n",
              "  </thead>\n",
              "  <tbody>\n",
              "    <tr>\n",
              "      <th>count</th>\n",
              "      <td>25.000000</td>\n",
              "      <td>25.000000</td>\n",
              "      <td>25.000000</td>\n",
              "    </tr>\n",
              "    <tr>\n",
              "      <th>mean</th>\n",
              "      <td>21.440000</td>\n",
              "      <td>64.160000</td>\n",
              "      <td>1.678400</td>\n",
              "    </tr>\n",
              "    <tr>\n",
              "      <th>std</th>\n",
              "      <td>2.042874</td>\n",
              "      <td>8.091559</td>\n",
              "      <td>0.086827</td>\n",
              "    </tr>\n",
              "    <tr>\n",
              "      <th>min</th>\n",
              "      <td>18.000000</td>\n",
              "      <td>49.000000</td>\n",
              "      <td>1.500000</td>\n",
              "    </tr>\n",
              "    <tr>\n",
              "      <th>25%</th>\n",
              "      <td>20.000000</td>\n",
              "      <td>59.000000</td>\n",
              "      <td>1.610000</td>\n",
              "    </tr>\n",
              "    <tr>\n",
              "      <th>50%</th>\n",
              "      <td>21.000000</td>\n",
              "      <td>65.000000</td>\n",
              "      <td>1.700000</td>\n",
              "    </tr>\n",
              "    <tr>\n",
              "      <th>75%</th>\n",
              "      <td>23.000000</td>\n",
              "      <td>70.000000</td>\n",
              "      <td>1.740000</td>\n",
              "    </tr>\n",
              "    <tr>\n",
              "      <th>max</th>\n",
              "      <td>25.000000</td>\n",
              "      <td>80.000000</td>\n",
              "      <td>1.820000</td>\n",
              "    </tr>\n",
              "  </tbody>\n",
              "</table>\n",
              "</div>\n",
              "      <button class=\"colab-df-convert\" onclick=\"convertToInteractive('df-682c4312-fbd2-410e-bb13-ec398ceb91eb')\"\n",
              "              title=\"Convert this dataframe to an interactive table.\"\n",
              "              style=\"display:none;\">\n",
              "        \n",
              "  <svg xmlns=\"http://www.w3.org/2000/svg\" height=\"24px\"viewBox=\"0 0 24 24\"\n",
              "       width=\"24px\">\n",
              "    <path d=\"M0 0h24v24H0V0z\" fill=\"none\"/>\n",
              "    <path d=\"M18.56 5.44l.94 2.06.94-2.06 2.06-.94-2.06-.94-.94-2.06-.94 2.06-2.06.94zm-11 1L8.5 8.5l.94-2.06 2.06-.94-2.06-.94L8.5 2.5l-.94 2.06-2.06.94zm10 10l.94 2.06.94-2.06 2.06-.94-2.06-.94-.94-2.06-.94 2.06-2.06.94z\"/><path d=\"M17.41 7.96l-1.37-1.37c-.4-.4-.92-.59-1.43-.59-.52 0-1.04.2-1.43.59L10.3 9.45l-7.72 7.72c-.78.78-.78 2.05 0 2.83L4 21.41c.39.39.9.59 1.41.59.51 0 1.02-.2 1.41-.59l7.78-7.78 2.81-2.81c.8-.78.8-2.07 0-2.86zM5.41 20L4 18.59l7.72-7.72 1.47 1.35L5.41 20z\"/>\n",
              "  </svg>\n",
              "      </button>\n",
              "      \n",
              "  <style>\n",
              "    .colab-df-container {\n",
              "      display:flex;\n",
              "      flex-wrap:wrap;\n",
              "      gap: 12px;\n",
              "    }\n",
              "\n",
              "    .colab-df-convert {\n",
              "      background-color: #E8F0FE;\n",
              "      border: none;\n",
              "      border-radius: 50%;\n",
              "      cursor: pointer;\n",
              "      display: none;\n",
              "      fill: #1967D2;\n",
              "      height: 32px;\n",
              "      padding: 0 0 0 0;\n",
              "      width: 32px;\n",
              "    }\n",
              "\n",
              "    .colab-df-convert:hover {\n",
              "      background-color: #E2EBFA;\n",
              "      box-shadow: 0px 1px 2px rgba(60, 64, 67, 0.3), 0px 1px 3px 1px rgba(60, 64, 67, 0.15);\n",
              "      fill: #174EA6;\n",
              "    }\n",
              "\n",
              "    [theme=dark] .colab-df-convert {\n",
              "      background-color: #3B4455;\n",
              "      fill: #D2E3FC;\n",
              "    }\n",
              "\n",
              "    [theme=dark] .colab-df-convert:hover {\n",
              "      background-color: #434B5C;\n",
              "      box-shadow: 0px 1px 3px 1px rgba(0, 0, 0, 0.15);\n",
              "      filter: drop-shadow(0px 1px 2px rgba(0, 0, 0, 0.3));\n",
              "      fill: #FFFFFF;\n",
              "    }\n",
              "  </style>\n",
              "\n",
              "      <script>\n",
              "        const buttonEl =\n",
              "          document.querySelector('#df-682c4312-fbd2-410e-bb13-ec398ceb91eb button.colab-df-convert');\n",
              "        buttonEl.style.display =\n",
              "          google.colab.kernel.accessAllowed ? 'block' : 'none';\n",
              "\n",
              "        async function convertToInteractive(key) {\n",
              "          const element = document.querySelector('#df-682c4312-fbd2-410e-bb13-ec398ceb91eb');\n",
              "          const dataTable =\n",
              "            await google.colab.kernel.invokeFunction('convertToInteractive',\n",
              "                                                     [key], {});\n",
              "          if (!dataTable) return;\n",
              "\n",
              "          const docLinkHtml = 'Like what you see? Visit the ' +\n",
              "            '<a target=\"_blank\" href=https://colab.research.google.com/notebooks/data_table.ipynb>data table notebook</a>'\n",
              "            + ' to learn more about interactive tables.';\n",
              "          element.innerHTML = '';\n",
              "          dataTable['output_type'] = 'display_data';\n",
              "          await google.colab.output.renderOutput(dataTable, element);\n",
              "          const docLink = document.createElement('div');\n",
              "          docLink.innerHTML = docLinkHtml;\n",
              "          element.appendChild(docLink);\n",
              "        }\n",
              "      </script>\n",
              "    </div>\n",
              "  </div>\n",
              "  "
            ]
          },
          "metadata": {},
          "execution_count": 10
        }
      ]
    },
    {
      "cell_type": "code",
      "source": [
        "df.plot.scatter(y=\"Altura\", x=\"Peso\")"
      ],
      "metadata": {
        "colab": {
          "base_uri": "https://localhost:8080/",
          "height": 296
        },
        "id": "nTTe54Tv31I9",
        "outputId": "ae1f8b69-7833-4d23-a086-9f9c8f349c32"
      },
      "execution_count": null,
      "outputs": [
        {
          "output_type": "execute_result",
          "data": {
            "text/plain": [
              "<matplotlib.axes._subplots.AxesSubplot at 0x7f86d8b44f90>"
            ]
          },
          "metadata": {},
          "execution_count": 12
        },
        {
          "output_type": "display_data",
          "data": {
            "text/plain": [
              "<Figure size 432x288 with 1 Axes>"
            ],
            "image/png": "[encoded data removed]"
          },
          "metadata": {
            "needs_background": "light"
          }
        }
      ]
    },
    {
      "cell_type": "code",
      "source": [
        "df.plot.scatter(y=\"Peso\", x=\"Edad\")"
      ],
      "metadata": {
        "colab": {
          "base_uri": "https://localhost:8080/",
          "height": 296
        },
        "id": "CZQmbW-z50aX",
        "outputId": "c1e89417-19b0-4912-e244-aebf14c78581"
      },
      "execution_count": null,
      "outputs": [
        {
          "output_type": "execute_result",
          "data": {
            "text/plain": [
              "<matplotlib.axes._subplots.AxesSubplot at 0x7f86d86321d0>"
            ]
          },
          "metadata": {},
          "execution_count": 13
        },
        {
          "output_type": "display_data",
          "data": {
            "text/plain": [
              "<Figure size 432x288 with 1 Axes>"
            ],
            "image/png": "[encoded data removed]"
          },
          "metadata": {
            "needs_background": "light"
          }
        }
      ]
    },
    {
      "cell_type": "code",
      "source": [
        "from pandas._libs.hashtable import value_count\n",
        "df.Genero.value_counts()"
      ],
      "metadata": {
        "colab": {
          "base_uri": "https://localhost:8080/"
        },
        "id": "jLypS6xY6C-M",
        "outputId": "c05df31f-9256-4846-f373-e719a03b234a"
      },
      "execution_count": null,
      "outputs": [
        {
          "output_type": "execute_result",
          "data": {
            "text/plain": [
              "Mujer     13\n",
              "Hombre    12\n",
              "Name: Genero, dtype: int64"
            ]
          },
          "metadata": {},
          "execution_count": 15
        }
      ]
    },
    {
      "cell_type": "code",
      "source": [
        "serie=df.Genero.value_counts()\n",
        "serie.plot.pie()"
      ],
      "metadata": {
        "colab": {
          "base_uri": "https://localhost:8080/",
          "height": 265
        },
        "id": "eIJQGeN16ccp",
        "outputId": "3670cd47-81f6-4154-eb87-21d69625ac41"
      },
      "execution_count": null,
      "outputs": [
        {
          "output_type": "execute_result",
          "data": {
            "text/plain": [
              "<matplotlib.axes._subplots.AxesSubplot at 0x7f86d85f98d0>"
            ]
          },
          "metadata": {},
          "execution_count": 16
        },
        {
          "output_type": "display_data",
          "data": {
            "text/plain": [
              "<Figure size 432x288 with 1 Axes>"
            ],
            "image/png": "[encoded data removed]"
          },
          "metadata": {}
        }
      ]
    },
    {
      "cell_type": "code",
      "source": [
        "serie.plot.pie(autopct='% 1.1f %%')"
      ],
      "metadata": {
        "colab": {
          "base_uri": "https://localhost:8080/",
          "height": 265
        },
        "id": "1euXJ8aU62Lt",
        "outputId": "cf28f3d5-a5e1-41cb-9d9a-34742eb7deca"
      },
      "execution_count": null,
      "outputs": [
        {
          "output_type": "execute_result",
          "data": {
            "text/plain": [
              "<matplotlib.axes._subplots.AxesSubplot at 0x7f86d6d1cf90>"
            ]
          },
          "metadata": {},
          "execution_count": 19
        },
        {
          "output_type": "display_data",
          "data": {
            "text/plain": [
              "<Figure size 432x288 with 1 Axes>"
            ],
            "image/png": "[encoded data removed]"
          },
          "metadata": {}
        }
      ]
    },
    {
      "cell_type": "code",
      "source": [
        "df.Edad.value_counts()\n",
        "\n",
        "seriedad=df.Edad.value_counts()\n",
        "seriedad.plot.bar()\n"
      ],
      "metadata": {
        "id": "SGwu46Mg7ywV"
      },
      "execution_count": null,
      "outputs": []
    },
    {
      "cell_type": "code",
      "source": [
        "seriedad.plot.barh()\n"
      ],
      "metadata": {
        "colab": {
          "base_uri": "https://localhost:8080/",
          "height": 282
        },
        "id": "viv8o_jE8-7M",
        "outputId": "8ef947d9-b142-4b77-eff1-f20f2b2ab07d"
      },
      "execution_count": null,
      "outputs": [
        {
          "output_type": "execute_result",
          "data": {
            "text/plain": [
              "<matplotlib.axes._subplots.AxesSubplot at 0x7f86d6594850>"
            ]
          },
          "metadata": {},
          "execution_count": 35
        },
        {
          "output_type": "display_data",
          "data": {
            "text/plain": [
              "<Figure size 432x288 with 1 Axes>"
            ],
            "image/png": "[encoded data removed]"
          },
          "metadata": {
            "needs_background": "light"
          }
        }
      ]
    },
    {
      "cell_type": "markdown",
      "source": [
        "Distribucion\n",
        "\n",
        "-Histogramas\n",
        "-Diagramas de caja"
      ],
      "metadata": {
        "id": "I0uj3V3j9JnN"
      }
    },
    {
      "cell_type": "code",
      "source": [
        "df.Altura.plot.hist()"
      ],
      "metadata": {
        "colab": {
          "base_uri": "https://localhost:8080/",
          "height": 282
        },
        "id": "grIxOT3881BF",
        "outputId": "35d8b54c-4898-4b73-992f-e93103fc184d"
      },
      "execution_count": null,
      "outputs": [
        {
          "output_type": "execute_result",
          "data": {
            "text/plain": [
              "<matplotlib.axes._subplots.AxesSubplot at 0x7f86d64bb4d0>"
            ]
          },
          "metadata": {},
          "execution_count": 36
        },
        {
          "output_type": "display_data",
          "data": {
            "text/plain": [
              "<Figure size 432x288 with 1 Axes>"
            ],
            "image/png": "[encoded data removed]"
          },
          "metadata": {
            "needs_background": "light"
          }
        }
      ]
    },
    {
      "cell_type": "code",
      "source": [
        "df.Altura.plot.density()"
      ],
      "metadata": {
        "colab": {
          "base_uri": "https://localhost:8080/",
          "height": 282
        },
        "id": "w3NyP4v2-IKN",
        "outputId": "b05b758f-aa92-45a6-d7a3-d64c3c39ff7e"
      },
      "execution_count": null,
      "outputs": [
        {
          "output_type": "execute_result",
          "data": {
            "text/plain": [
              "<matplotlib.axes._subplots.AxesSubplot at 0x7f86d64558d0>"
            ]
          },
          "metadata": {},
          "execution_count": 37
        },
        {
          "output_type": "display_data",
          "data": {
            "text/plain": [
              "<Figure size 432x288 with 1 Axes>"
            ],
            "image/png": "[encoded data removed]"
          },
          "metadata": {
            "needs_background": "light"
          }
        }
      ]
    },
    {
      "cell_type": "code",
      "source": [
        "df.Altura.plot.box()"
      ],
      "metadata": {
        "colab": {
          "base_uri": "https://localhost:8080/",
          "height": 282
        },
        "id": "HAd5rsGP-QqM",
        "outputId": "4194515c-0153-4084-b3e9-790872f4a718"
      },
      "execution_count": null,
      "outputs": [
        {
          "output_type": "execute_result",
          "data": {
            "text/plain": [
              "<matplotlib.axes._subplots.AxesSubplot at 0x7f86ca9e8f90>"
            ]
          },
          "metadata": {},
          "execution_count": 38
        },
        {
          "output_type": "display_data",
          "data": {
            "text/plain": [
              "<Figure size 432x288 with 1 Axes>"
            ],
            "image/png": "[encoded data removed]"
          },
          "metadata": {
            "needs_background": "light"
          }
        }
      ]
    },
    {
      "cell_type": "code",
      "source": [
        "from numpy.lib.shape_base import column_stack\n",
        "from pandas import DataFrame\n",
        "\n",
        "carros={'Producto':['Movil','Computador','Tablet','Registradora'],\n",
        "       'Precio':[700000,2300000,400000,100000],\n",
        "        'Año':[2018,2019,2020,2021]}\n",
        "\n",
        "df=DataFrame(carros, columns=['Prosucto','Precio', 'Año'])\n",
        "print(\"\",df)"
      ],
      "metadata": {
        "colab": {
          "base_uri": "https://localhost:8080/"
        },
        "id": "JE0l14Io-gnt",
        "outputId": "de24b247-a8e8-4d2d-b275-ca9623ab2350"
      },
      "execution_count": null,
      "outputs": [
        {
          "output_type": "stream",
          "name": "stdout",
          "text": [
            "   Prosucto   Precio   Año\n",
            "0      NaN   700000  2018\n",
            "1      NaN  2300000  2019\n",
            "2      NaN   400000  2020\n",
            "3      NaN   100000  2021\n"
          ]
        }
      ]
    },
    {
      "cell_type": "code",
      "source": [
        "valor=df['Precio'].describe()\n",
        "valor"
      ],
      "metadata": {
        "colab": {
          "base_uri": "https://localhost:8080/"
        },
        "id": "GuYjrd3XAkAc",
        "outputId": "0af5ab98-7756-4633-a689-3ae2e21a79a3"
      },
      "execution_count": null,
      "outputs": [
        {
          "output_type": "execute_result",
          "data": {
            "text/plain": [
              "count    4.000000e+00\n",
              "mean     8.750000e+05\n",
              "std      9.810708e+05\n",
              "min      1.000000e+05\n",
              "25%      3.250000e+05\n",
              "50%      5.500000e+05\n",
              "75%      1.100000e+06\n",
              "max      2.300000e+06\n",
              "Name: Precio, dtype: float64"
            ]
          },
          "metadata": {},
          "execution_count": 47
        }
      ]
    },
    {
      "cell_type": "code",
      "source": [
        "year=df['Año'].describe()\n",
        "year"
      ],
      "metadata": {
        "colab": {
          "base_uri": "https://localhost:8080/"
        },
        "id": "8-ZYguhQBgkl",
        "outputId": "4482772f-7593-4e8e-c913-1370a0ee8d7b"
      },
      "execution_count": null,
      "outputs": [
        {
          "output_type": "execute_result",
          "data": {
            "text/plain": [
              "count       4.000000\n",
              "mean     2019.500000\n",
              "std         1.290994\n",
              "min      2018.000000\n",
              "25%      2018.750000\n",
              "50%      2019.500000\n",
              "75%      2020.250000\n",
              "max      2021.000000\n",
              "Name: Año, dtype: float64"
            ]
          },
          "metadata": {},
          "execution_count": 51
        }
      ]
    },
    {
      "cell_type": "code",
      "source": [
        "analisis=df.describe(include='all')\n",
        "analisis"
      ],
      "metadata": {
        "colab": {
          "base_uri": "https://localhost:8080/",
          "height": 394
        },
        "id": "M4Li7WS0CCrl",
        "outputId": "467d3237-fc37-4ea7-e5d8-4145f82fdbea"
      },
      "execution_count": null,
      "outputs": [
        {
          "output_type": "execute_result",
          "data": {
            "text/plain": [
              "       Prosucto        Precio          Año\n",
              "count         0  4.000000e+00     4.000000\n",
              "unique        0           NaN          NaN\n",
              "top         NaN           NaN          NaN\n",
              "freq        NaN           NaN          NaN\n",
              "mean        NaN  8.750000e+05  2019.500000\n",
              "std         NaN  9.810708e+05     1.290994\n",
              "min         NaN  1.000000e+05  2018.000000\n",
              "25%         NaN  3.250000e+05  2018.750000\n",
              "50%         NaN  5.500000e+05  2019.500000\n",
              "75%         NaN  1.100000e+06  2020.250000\n",
              "max         NaN  2.300000e+06  2021.000000"
            ],
            "text/html": [
              "\n",
              "  <div id=\"df-3fed31ee-be25-4fea-adff-9771b102bceb\">\n",
              "    <div class=\"colab-df-container\">\n",
              "      <div>\n",
              "<style scoped>\n",
              "    .dataframe tbody tr th:only-of-type {\n",
              "        vertical-align: middle;\n",
              "    }\n",
              "\n",
              "    .dataframe tbody tr th {\n",
              "        vertical-align: top;\n",
              "    }\n",
              "\n",
              "    .dataframe thead th {\n",
              "        text-align: right;\n",
              "    }\n",
              "</style>\n",
              "<table border=\"1\" class=\"dataframe\">\n",
              "  <thead>\n",
              "    <tr style=\"text-align: right;\">\n",
              "      <th></th>\n",
              "      <th>Prosucto</th>\n",
              "      <th>Precio</th>\n",
              "      <th>Año</th>\n",
              "    </tr>\n",
              "  </thead>\n",
              "  <tbody>\n",
              "    <tr>\n",
              "      <th>count</th>\n",
              "      <td>0</td>\n",
              "      <td>4.000000e+00</td>\n",
              "      <td>4.000000</td>\n",
              "    </tr>\n",
              "    <tr>\n",
              "      <th>unique</th>\n",
              "      <td>0</td>\n",
              "      <td>NaN</td>\n",
              "      <td>NaN</td>\n",
              "    </tr>\n",
              "    <tr>\n",
              "      <th>top</th>\n",
              "      <td>NaN</td>\n",
              "      <td>NaN</td>\n",
              "      <td>NaN</td>\n",
              "    </tr>\n",
              "    <tr>\n",
              "      <th>freq</th>\n",
              "      <td>NaN</td>\n",
              "      <td>NaN</td>\n",
              "      <td>NaN</td>\n",
              "    </tr>\n",
              "    <tr>\n",
              "      <th>mean</th>\n",
              "      <td>NaN</td>\n",
              "      <td>8.750000e+05</td>\n",
              "      <td>2019.500000</td>\n",
              "    </tr>\n",
              "    <tr>\n",
              "      <th>std</th>\n",
              "      <td>NaN</td>\n",
              "      <td>9.810708e+05</td>\n",
              "      <td>1.290994</td>\n",
              "    </tr>\n",
              "    <tr>\n",
              "      <th>min</th>\n",
              "      <td>NaN</td>\n",
              "      <td>1.000000e+05</td>\n",
              "      <td>2018.000000</td>\n",
              "    </tr>\n",
              "    <tr>\n",
              "      <th>25%</th>\n",
              "      <td>NaN</td>\n",
              "      <td>3.250000e+05</td>\n",
              "      <td>2018.750000</td>\n",
              "    </tr>\n",
              "    <tr>\n",
              "      <th>50%</th>\n",
              "      <td>NaN</td>\n",
              "      <td>5.500000e+05</td>\n",
              "      <td>2019.500000</td>\n",
              "    </tr>\n",
              "    <tr>\n",
              "      <th>75%</th>\n",
              "      <td>NaN</td>\n",
              "      <td>1.100000e+06</td>\n",
              "      <td>2020.250000</td>\n",
              "    </tr>\n",
              "    <tr>\n",
              "      <th>max</th>\n",
              "      <td>NaN</td>\n",
              "      <td>2.300000e+06</td>\n",
              "      <td>2021.000000</td>\n",
              "    </tr>\n",
              "  </tbody>\n",
              "</table>\n",
              "</div>\n",
              "      <button class=\"colab-df-convert\" onclick=\"convertToInteractive('df-3fed31ee-be25-4fea-adff-9771b102bceb')\"\n",
              "              title=\"Convert this dataframe to an interactive table.\"\n",
              "              style=\"display:none;\">\n",
              "        \n",
              "  <svg xmlns=\"http://www.w3.org/2000/svg\" height=\"24px\"viewBox=\"0 0 24 24\"\n",
              "       width=\"24px\">\n",
              "    <path d=\"M0 0h24v24H0V0z\" fill=\"none\"/>\n",
              "    <path d=\"M18.56 5.44l.94 2.06.94-2.06 2.06-.94-2.06-.94-.94-2.06-.94 2.06-2.06.94zm-11 1L8.5 8.5l.94-2.06 2.06-.94-2.06-.94L8.5 2.5l-.94 2.06-2.06.94zm10 10l.94 2.06.94-2.06 2.06-.94-2.06-.94-.94-2.06-.94 2.06-2.06.94z\"/><path d=\"M17.41 7.96l-1.37-1.37c-.4-.4-.92-.59-1.43-.59-.52 0-1.04.2-1.43.59L10.3 9.45l-7.72 7.72c-.78.78-.78 2.05 0 2.83L4 21.41c.39.39.9.59 1.41.59.51 0 1.02-.2 1.41-.59l7.78-7.78 2.81-2.81c.8-.78.8-2.07 0-2.86zM5.41 20L4 18.59l7.72-7.72 1.47 1.35L5.41 20z\"/>\n",
              "  </svg>\n",
              "      </button>\n",
              "      \n",
              "  <style>\n",
              "    .colab-df-container {\n",
              "      display:flex;\n",
              "      flex-wrap:wrap;\n",
              "      gap: 12px;\n",
              "    }\n",
              "\n",
              "    .colab-df-convert {\n",
              "      background-color: #E8F0FE;\n",
              "      border: none;\n",
              "      border-radius: 50%;\n",
              "      cursor: pointer;\n",
              "      display: none;\n",
              "      fill: #1967D2;\n",
              "      height: 32px;\n",
              "      padding: 0 0 0 0;\n",
              "      width: 32px;\n",
              "    }\n",
              "\n",
              "    .colab-df-convert:hover {\n",
              "      background-color: #E2EBFA;\n",
              "      box-shadow: 0px 1px 2px rgba(60, 64, 67, 0.3), 0px 1px 3px 1px rgba(60, 64, 67, 0.15);\n",
              "      fill: #174EA6;\n",
              "    }\n",
              "\n",
              "    [theme=dark] .colab-df-convert {\n",
              "      background-color: #3B4455;\n",
              "      fill: #D2E3FC;\n",
              "    }\n",
              "\n",
              "    [theme=dark] .colab-df-convert:hover {\n",
              "      background-color: #434B5C;\n",
              "      box-shadow: 0px 1px 3px 1px rgba(0, 0, 0, 0.15);\n",
              "      filter: drop-shadow(0px 1px 2px rgba(0, 0, 0, 0.3));\n",
              "      fill: #FFFFFF;\n",
              "    }\n",
              "  </style>\n",
              "\n",
              "      <script>\n",
              "        const buttonEl =\n",
              "          document.querySelector('#df-3fed31ee-be25-4fea-adff-9771b102bceb button.colab-df-convert');\n",
              "        buttonEl.style.display =\n",
              "          google.colab.kernel.accessAllowed ? 'block' : 'none';\n",
              "\n",
              "        async function convertToInteractive(key) {\n",
              "          const element = document.querySelector('#df-3fed31ee-be25-4fea-adff-9771b102bceb');\n",
              "          const dataTable =\n",
              "            await google.colab.kernel.invokeFunction('convertToInteractive',\n",
              "                                                     [key], {});\n",
              "          if (!dataTable) return;\n",
              "\n",
              "          const docLinkHtml = 'Like what you see? Visit the ' +\n",
              "            '<a target=\"_blank\" href=https://colab.research.google.com/notebooks/data_table.ipynb>data table notebook</a>'\n",
              "            + ' to learn more about interactive tables.';\n",
              "          element.innerHTML = '';\n",
              "          dataTable['output_type'] = 'display_data';\n",
              "          await google.colab.output.renderOutput(dataTable, element);\n",
              "          const docLink = document.createElement('div');\n",
              "          docLink.innerHTML = docLinkHtml;\n",
              "          element.appendChild(docLink);\n",
              "        }\n",
              "      </script>\n",
              "    </div>\n",
              "  </div>\n",
              "  "
            ]
          },
          "metadata": {},
          "execution_count": 54
        }
      ]
    },
    {
      "cell_type": "code",
      "source": [
        "from google.colab import files\n",
        "\n",
        "analisis.to_csv('list.csv')\n",
        "files.download('list.csv')\n"
      ],
      "metadata": {
        "colab": {
          "base_uri": "https://localhost:8080/",
          "height": 17
        },
        "id": "wPsvMCUKDZhD",
        "outputId": "ee2044f7-5b0f-4fe9-8538-60a19eed0510"
      },
      "execution_count": null,
      "outputs": [
        {
          "output_type": "display_data",
          "data": {
            "text/plain": [
              "<IPython.core.display.Javascript object>"
            ],
            "application/javascript": [
              "\n",
              "    async function download(id, filename, size) {\n",
              "      if (!google.colab.kernel.accessAllowed) {\n",
              "        return;\n",
              "      }\n",
              "      const div = document.createElement('div');\n",
              "      const label = document.createElement('label');\n",
              "      label.textContent = `Downloading \"${filename}\": `;\n",
              "      div.appendChild(label);\n",
              "      const progress = document.createElement('progress');\n",
              "      progress.max = size;\n",
              "      div.appendChild(progress);\n",
              "      document.body.appendChild(div);\n",
              "\n",
              "      const buffers = [];\n",
              "      let downloaded = 0;\n",
              "\n",
              "      const channel = await google.colab.kernel.comms.open(id);\n",
              "      // Send a message to notify the kernel that we're ready.\n",
              "      channel.send({})\n",
              "\n",
              "      for await (const message of channel.messages) {\n",
              "        // Send a message to notify the kernel that we're ready.\n",
              "        channel.send({})\n",
              "        if (message.buffers) {\n",
              "          for (const buffer of message.buffers) {\n",
              "            buffers.push(buffer);\n",
              "            downloaded += buffer.byteLength;\n",
              "            progress.value = downloaded;\n",
              "          }\n",
              "        }\n",
              "      }\n",
              "      const blob = new Blob(buffers, {type: 'application/binary'});\n",
              "      const a = document.createElement('a');\n",
              "      a.href = window.URL.createObjectURL(blob);\n",
              "      a.download = filename;\n",
              "      div.appendChild(a);\n",
              "      a.click();\n",
              "      div.remove();\n",
              "    }\n",
              "  "
            ]
          },
          "metadata": {}
        },
        {
          "output_type": "display_data",
          "data": {
            "text/plain": [
              "<IPython.core.display.Javascript object>"
            ],
            "application/javascript": [
              "download(\"download_42744bde-8c2f-4e37-9caa-ccb8ae09d37a\", \"list.csv\", 237)"
            ]
          },
          "metadata": {}
        }
      ]
    },
    {
      "cell_type": "code",
      "source": [
        "from google.colab import files\n",
        "\n",
        "analisis.to_json('list.json')\n",
        "files.download('list.json')\n"
      ],
      "metadata": {
        "colab": {
          "base_uri": "https://localhost:8080/",
          "height": 17
        },
        "id": "aAA0brg7FvgL",
        "outputId": "a0344946-85db-4e0d-f407-b1878b14a3e9"
      },
      "execution_count": null,
      "outputs": [
        {
          "output_type": "display_data",
          "data": {
            "text/plain": [
              "<IPython.core.display.Javascript object>"
            ],
            "application/javascript": [
              "\n",
              "    async function download(id, filename, size) {\n",
              "      if (!google.colab.kernel.accessAllowed) {\n",
              "        return;\n",
              "      }\n",
              "      const div = document.createElement('div');\n",
              "      const label = document.createElement('label');\n",
              "      label.textContent = `Downloading \"${filename}\": `;\n",
              "      div.appendChild(label);\n",
              "      const progress = document.createElement('progress');\n",
              "      progress.max = size;\n",
              "      div.appendChild(progress);\n",
              "      document.body.appendChild(div);\n",
              "\n",
              "      const buffers = [];\n",
              "      let downloaded = 0;\n",
              "\n",
              "      const channel = await google.colab.kernel.comms.open(id);\n",
              "      // Send a message to notify the kernel that we're ready.\n",
              "      channel.send({})\n",
              "\n",
              "      for await (const message of channel.messages) {\n",
              "        // Send a message to notify the kernel that we're ready.\n",
              "        channel.send({})\n",
              "        if (message.buffers) {\n",
              "          for (const buffer of message.buffers) {\n",
              "            buffers.push(buffer);\n",
              "            downloaded += buffer.byteLength;\n",
              "            progress.value = downloaded;\n",
              "          }\n",
              "        }\n",
              "      }\n",
              "      const blob = new Blob(buffers, {type: 'application/binary'});\n",
              "      const a = document.createElement('a');\n",
              "      a.href = window.URL.createObjectURL(blob);\n",
              "      a.download = filename;\n",
              "      div.appendChild(a);\n",
              "      a.click();\n",
              "      div.remove();\n",
              "    }\n",
              "  "
            ]
          },
          "metadata": {}
        },
        {
          "output_type": "display_data",
          "data": {
            "text/plain": [
              "<IPython.core.display.Javascript object>"
            ],
            "application/javascript": [
              "download(\"download_1d74c158-c8e3-4d87-bebf-42b60e2d7c35\", \"list.json\", 475)"
            ]
          },
          "metadata": {}
        }
      ]
    },
    {
      "cell_type": "code",
      "source": [
        "import pandas as pd\n",
        "\n",
        "notas={'Gerardo':35, 'Luis':40, 'Monica':50, 'Jorge':20}\n",
        "notas\n",
        "\n",
        "def imprimir(notas):\n",
        "  nota=pd.Series(notas)\n",
        "  estadistica=pd.Series([nota.min(),nota.max(), nota.mean(),nota.std()], index=['min','max','media','DesviacionStandar'])\n",
        "  return estadistica\n",
        "print(imprimir(notas))"
      ],
      "metadata": {
        "colab": {
          "base_uri": "https://localhost:8080/"
        },
        "id": "xDq6ElwlHre_",
        "outputId": "253e6be6-deb9-4c5b-e977-4131c7ce8f51"
      },
      "execution_count": null,
      "outputs": [
        {
          "output_type": "stream",
          "name": "stdout",
          "text": [
            "min                  20.00\n",
            "max                  50.00\n",
            "media                36.25\n",
            "DesviacionStandar    12.50\n",
            "dtype: float64\n"
          ]
        }
      ]
    },
    {
      "cell_type": "markdown",
      "source": [
        "22/08/2022"
      ],
      "metadata": {
        "id": "CLkZ8jRf2vDj"
      }
    },
    {
      "cell_type": "code",
      "source": [
        "import pandas as pd\n",
        "\n",
        "datos={'mes':['enero','febrero','marzo','abril'], \n",
        "       'ventas':[30500,25900,35500,4000], \n",
        "       'gastos':[22300,23000,24000,26000]}\n",
        "contabilidad=pd.DataFrame(datos)\n",
        "contabilidad"
      ],
      "metadata": {
        "colab": {
          "base_uri": "https://localhost:8080/",
          "height": 175
        },
        "id": "XIyz1Vcy2cN-",
        "outputId": "7a537c1c-0f50-4f80-98a5-7c84e2240a4f"
      },
      "execution_count": null,
      "outputs": [
        {
          "output_type": "execute_result",
          "data": {
            "text/plain": [
              "       mes  ventas  gastos\n",
              "0    enero   30500   22300\n",
              "1  febrero   25900   23000\n",
              "2    marzo   35500   24000\n",
              "3    abril    4000   26000"
            ],
            "text/html": [
              "\n",
              "  <div id=\"df-b276b852-dd1a-4f25-b855-3f358b075ecd\">\n",
              "    <div class=\"colab-df-container\">\n",
              "      <div>\n",
              "<style scoped>\n",
              "    .dataframe tbody tr th:only-of-type {\n",
              "        vertical-align: middle;\n",
              "    }\n",
              "\n",
              "    .dataframe tbody tr th {\n",
              "        vertical-align: top;\n",
              "    }\n",
              "\n",
              "    .dataframe thead th {\n",
              "        text-align: right;\n",
              "    }\n",
              "</style>\n",
              "<table border=\"1\" class=\"dataframe\">\n",
              "  <thead>\n",
              "    <tr style=\"text-align: right;\">\n",
              "      <th></th>\n",
              "      <th>mes</th>\n",
              "      <th>ventas</th>\n",
              "      <th>gastos</th>\n",
              "    </tr>\n",
              "  </thead>\n",
              "  <tbody>\n",
              "    <tr>\n",
              "      <th>0</th>\n",
              "      <td>enero</td>\n",
              "      <td>30500</td>\n",
              "      <td>22300</td>\n",
              "    </tr>\n",
              "    <tr>\n",
              "      <th>1</th>\n",
              "      <td>febrero</td>\n",
              "      <td>25900</td>\n",
              "      <td>23000</td>\n",
              "    </tr>\n",
              "    <tr>\n",
              "      <th>2</th>\n",
              "      <td>marzo</td>\n",
              "      <td>35500</td>\n",
              "      <td>24000</td>\n",
              "    </tr>\n",
              "    <tr>\n",
              "      <th>3</th>\n",
              "      <td>abril</td>\n",
              "      <td>4000</td>\n",
              "      <td>26000</td>\n",
              "    </tr>\n",
              "  </tbody>\n",
              "</table>\n",
              "</div>\n",
              "      <button class=\"colab-df-convert\" onclick=\"convertToInteractive('df-b276b852-dd1a-4f25-b855-3f358b075ecd')\"\n",
              "              title=\"Convert this dataframe to an interactive table.\"\n",
              "              style=\"display:none;\">\n",
              "        \n",
              "  <svg xmlns=\"http://www.w3.org/2000/svg\" height=\"24px\"viewBox=\"0 0 24 24\"\n",
              "       width=\"24px\">\n",
              "    <path d=\"M0 0h24v24H0V0z\" fill=\"none\"/>\n",
              "    <path d=\"M18.56 5.44l.94 2.06.94-2.06 2.06-.94-2.06-.94-.94-2.06-.94 2.06-2.06.94zm-11 1L8.5 8.5l.94-2.06 2.06-.94-2.06-.94L8.5 2.5l-.94 2.06-2.06.94zm10 10l.94 2.06.94-2.06 2.06-.94-2.06-.94-.94-2.06-.94 2.06-2.06.94z\"/><path d=\"M17.41 7.96l-1.37-1.37c-.4-.4-.92-.59-1.43-.59-.52 0-1.04.2-1.43.59L10.3 9.45l-7.72 7.72c-.78.78-.78 2.05 0 2.83L4 21.41c.39.39.9.59 1.41.59.51 0 1.02-.2 1.41-.59l7.78-7.78 2.81-2.81c.8-.78.8-2.07 0-2.86zM5.41 20L4 18.59l7.72-7.72 1.47 1.35L5.41 20z\"/>\n",
              "  </svg>\n",
              "      </button>\n",
              "      \n",
              "  <style>\n",
              "    .colab-df-container {\n",
              "      display:flex;\n",
              "      flex-wrap:wrap;\n",
              "      gap: 12px;\n",
              "    }\n",
              "\n",
              "    .colab-df-convert {\n",
              "      background-color: #E8F0FE;\n",
              "      border: none;\n",
              "      border-radius: 50%;\n",
              "      cursor: pointer;\n",
              "      display: none;\n",
              "      fill: #1967D2;\n",
              "      height: 32px;\n",
              "      padding: 0 0 0 0;\n",
              "      width: 32px;\n",
              "    }\n",
              "\n",
              "    .colab-df-convert:hover {\n",
              "      background-color: #E2EBFA;\n",
              "      box-shadow: 0px 1px 2px rgba(60, 64, 67, 0.3), 0px 1px 3px 1px rgba(60, 64, 67, 0.15);\n",
              "      fill: #174EA6;\n",
              "    }\n",
              "\n",
              "    [theme=dark] .colab-df-convert {\n",
              "      background-color: #3B4455;\n",
              "      fill: #D2E3FC;\n",
              "    }\n",
              "\n",
              "    [theme=dark] .colab-df-convert:hover {\n",
              "      background-color: #434B5C;\n",
              "      box-shadow: 0px 1px 3px 1px rgba(0, 0, 0, 0.15);\n",
              "      filter: drop-shadow(0px 1px 2px rgba(0, 0, 0, 0.3));\n",
              "      fill: #FFFFFF;\n",
              "    }\n",
              "  </style>\n",
              "\n",
              "      <script>\n",
              "        const buttonEl =\n",
              "          document.querySelector('#df-b276b852-dd1a-4f25-b855-3f358b075ecd button.colab-df-convert');\n",
              "        buttonEl.style.display =\n",
              "          google.colab.kernel.accessAllowed ? 'block' : 'none';\n",
              "\n",
              "        async function convertToInteractive(key) {\n",
              "          const element = document.querySelector('#df-b276b852-dd1a-4f25-b855-3f358b075ecd');\n",
              "          const dataTable =\n",
              "            await google.colab.kernel.invokeFunction('convertToInteractive',\n",
              "                                                     [key], {});\n",
              "          if (!dataTable) return;\n",
              "\n",
              "          const docLinkHtml = 'Like what you see? Visit the ' +\n",
              "            '<a target=\"_blank\" href=https://colab.research.google.com/notebooks/data_table.ipynb>data table notebook</a>'\n",
              "            + ' to learn more about interactive tables.';\n",
              "          element.innerHTML = '';\n",
              "          dataTable['output_type'] = 'display_data';\n",
              "          await google.colab.output.renderOutput(dataTable, element);\n",
              "          const docLink = document.createElement('div');\n",
              "          docLink.innerHTML = docLinkHtml;\n",
              "          element.appendChild(docLink);\n",
              "        }\n",
              "      </script>\n",
              "    </div>\n",
              "  </div>\n",
              "  "
            ]
          },
          "metadata": {},
          "execution_count": 6
        }
      ]
    },
    {
      "cell_type": "code",
      "source": [
        "import pandas as pd\n",
        "def cotizaciones(fichero):\n",
        "    df=pd.read_csv(fichero,sep=';',decimal=',',thousands='.',index_col=0)  \n",
        "    return pd.DataFrame([df.min(),df.max(),df.mean()],\n",
        "                    index=['minimo','maximo','media'])\n",
        "  \n",
        "\n",
        "cotizaciones('/home/cotizacion.csv')"
      ],
      "metadata": {
        "colab": {
          "base_uri": "https://localhost:8080/",
          "height": 143
        },
        "id": "CgAsUnZl5HpN",
        "outputId": "b678d218-95ee-4471-baaa-92c75de7ed46"
      },
      "execution_count": null,
      "outputs": [
        {
          "output_type": "execute_result",
          "data": {
            "text/plain": [
              "               Final        Máximo        Mínimo       Volumen    Efectivo\n",
              "minimo      1.016500      4.067500      1.016500  1.221000e+03    2343.090\n",
              "maximo  19705.000000  19875.000000  19675.000000  3.612969e+07  145765.440\n",
              "media    2796.768757   3170.113357   3136.510471  4.252279e+06   31767.778"
            ],
            "text/html": [
              "\n",
              "  <div id=\"df-98eed064-0cc6-4a7b-9a13-cd7a2141bb74\">\n",
              "    <div class=\"colab-df-container\">\n",
              "      <div>\n",
              "<style scoped>\n",
              "    .dataframe tbody tr th:only-of-type {\n",
              "        vertical-align: middle;\n",
              "    }\n",
              "\n",
              "    .dataframe tbody tr th {\n",
              "        vertical-align: top;\n",
              "    }\n",
              "\n",
              "    .dataframe thead th {\n",
              "        text-align: right;\n",
              "    }\n",
              "</style>\n",
              "<table border=\"1\" class=\"dataframe\">\n",
              "  <thead>\n",
              "    <tr style=\"text-align: right;\">\n",
              "      <th></th>\n",
              "      <th>Final</th>\n",
              "      <th>Máximo</th>\n",
              "      <th>Mínimo</th>\n",
              "      <th>Volumen</th>\n",
              "      <th>Efectivo</th>\n",
              "    </tr>\n",
              "  </thead>\n",
              "  <tbody>\n",
              "    <tr>\n",
              "      <th>minimo</th>\n",
              "      <td>1.016500</td>\n",
              "      <td>4.067500</td>\n",
              "      <td>1.016500</td>\n",
              "      <td>1.221000e+03</td>\n",
              "      <td>2343.090</td>\n",
              "    </tr>\n",
              "    <tr>\n",
              "      <th>maximo</th>\n",
              "      <td>19705.000000</td>\n",
              "      <td>19875.000000</td>\n",
              "      <td>19675.000000</td>\n",
              "      <td>3.612969e+07</td>\n",
              "      <td>145765.440</td>\n",
              "    </tr>\n",
              "    <tr>\n",
              "      <th>media</th>\n",
              "      <td>2796.768757</td>\n",
              "      <td>3170.113357</td>\n",
              "      <td>3136.510471</td>\n",
              "      <td>4.252279e+06</td>\n",
              "      <td>31767.778</td>\n",
              "    </tr>\n",
              "  </tbody>\n",
              "</table>\n",
              "</div>\n",
              "      <button class=\"colab-df-convert\" onclick=\"convertToInteractive('df-98eed064-0cc6-4a7b-9a13-cd7a2141bb74')\"\n",
              "              title=\"Convert this dataframe to an interactive table.\"\n",
              "              style=\"display:none;\">\n",
              "        \n",
              "  <svg xmlns=\"http://www.w3.org/2000/svg\" height=\"24px\"viewBox=\"0 0 24 24\"\n",
              "       width=\"24px\">\n",
              "    <path d=\"M0 0h24v24H0V0z\" fill=\"none\"/>\n",
              "    <path d=\"M18.56 5.44l.94 2.06.94-2.06 2.06-.94-2.06-.94-.94-2.06-.94 2.06-2.06.94zm-11 1L8.5 8.5l.94-2.06 2.06-.94-2.06-.94L8.5 2.5l-.94 2.06-2.06.94zm10 10l.94 2.06.94-2.06 2.06-.94-2.06-.94-.94-2.06-.94 2.06-2.06.94z\"/><path d=\"M17.41 7.96l-1.37-1.37c-.4-.4-.92-.59-1.43-.59-.52 0-1.04.2-1.43.59L10.3 9.45l-7.72 7.72c-.78.78-.78 2.05 0 2.83L4 21.41c.39.39.9.59 1.41.59.51 0 1.02-.2 1.41-.59l7.78-7.78 2.81-2.81c.8-.78.8-2.07 0-2.86zM5.41 20L4 18.59l7.72-7.72 1.47 1.35L5.41 20z\"/>\n",
              "  </svg>\n",
              "      </button>\n",
              "      \n",
              "  <style>\n",
              "    .colab-df-container {\n",
              "      display:flex;\n",
              "      flex-wrap:wrap;\n",
              "      gap: 12px;\n",
              "    }\n",
              "\n",
              "    .colab-df-convert {\n",
              "      background-color: #E8F0FE;\n",
              "      border: none;\n",
              "      border-radius: 50%;\n",
              "      cursor: pointer;\n",
              "      display: none;\n",
              "      fill: #1967D2;\n",
              "      height: 32px;\n",
              "      padding: 0 0 0 0;\n",
              "      width: 32px;\n",
              "    }\n",
              "\n",
              "    .colab-df-convert:hover {\n",
              "      background-color: #E2EBFA;\n",
              "      box-shadow: 0px 1px 2px rgba(60, 64, 67, 0.3), 0px 1px 3px 1px rgba(60, 64, 67, 0.15);\n",
              "      fill: #174EA6;\n",
              "    }\n",
              "\n",
              "    [theme=dark] .colab-df-convert {\n",
              "      background-color: #3B4455;\n",
              "      fill: #D2E3FC;\n",
              "    }\n",
              "\n",
              "    [theme=dark] .colab-df-convert:hover {\n",
              "      background-color: #434B5C;\n",
              "      box-shadow: 0px 1px 3px 1px rgba(0, 0, 0, 0.15);\n",
              "      filter: drop-shadow(0px 1px 2px rgba(0, 0, 0, 0.3));\n",
              "      fill: #FFFFFF;\n",
              "    }\n",
              "  </style>\n",
              "\n",
              "      <script>\n",
              "        const buttonEl =\n",
              "          document.querySelector('#df-98eed064-0cc6-4a7b-9a13-cd7a2141bb74 button.colab-df-convert');\n",
              "        buttonEl.style.display =\n",
              "          google.colab.kernel.accessAllowed ? 'block' : 'none';\n",
              "\n",
              "        async function convertToInteractive(key) {\n",
              "          const element = document.querySelector('#df-98eed064-0cc6-4a7b-9a13-cd7a2141bb74');\n",
              "          const dataTable =\n",
              "            await google.colab.kernel.invokeFunction('convertToInteractive',\n",
              "                                                     [key], {});\n",
              "          if (!dataTable) return;\n",
              "\n",
              "          const docLinkHtml = 'Like what you see? Visit the ' +\n",
              "            '<a target=\"_blank\" href=https://colab.research.google.com/notebooks/data_table.ipynb>data table notebook</a>'\n",
              "            + ' to learn more about interactive tables.';\n",
              "          element.innerHTML = '';\n",
              "          dataTable['output_type'] = 'display_data';\n",
              "          await google.colab.output.renderOutput(dataTable, element);\n",
              "          const docLink = document.createElement('div');\n",
              "          docLink.innerHTML = docLinkHtml;\n",
              "          element.appendChild(docLink);\n",
              "        }\n",
              "      </script>\n",
              "    </div>\n",
              "  </div>\n",
              "  "
            ]
          },
          "metadata": {},
          "execution_count": 9
        }
      ]
    },
    {
      "cell_type": "code",
      "source": [
        "import matplotlib.pyplot as plt\n",
        " \n",
        "def diagramabarras(notas,color):\n",
        "    fig, ax = plt.subplots()\n",
        "    ax.bar(notas.keys(),notas.values(),color=color)\n",
        "    return ax \n",
        "notas={'matematicas':35,'sistemas':45,'ingles':30,'fisica':20}\n",
        "diagramabarras(notas,'blue')\n",
        "plt.show()"
      ],
      "metadata": {
        "colab": {
          "base_uri": "https://localhost:8080/",
          "height": 265
        },
        "id": "0qo_cBTb-2kN",
        "outputId": "7756efd3-fc72-4e87-a246-6b4e4e24791e"
      },
      "execution_count": null,
      "outputs": [
        {
          "output_type": "display_data",
          "data": {
            "text/plain": [
              "<Figure size 432x288 with 1 Axes>"
            ],
            "image/png": "[encoded data removed]"
          },
          "metadata": {
            "needs_background": "light"
          }
        }
      ]
    },
    {
      "cell_type": "code",
      "source": [
        "import matplotlib.pyplot as plt\n",
        "\n",
        "inicio=int(input(\"Digite año inicial\"))\n",
        "fin=int(input(\"Digite año final\"));\n",
        "ventas={}\n",
        "for i in range(inicio, fin+1):\n",
        "  ventas[i]=float(input(\"venta\"+str(i)+\":\"))\n",
        "ventas\n",
        "\n",
        "fig, ax = plt.subplots()\n",
        "ax.plot(ventas.keys(),ventas.values())\n",
        "plt.show()"
      ],
      "metadata": {
        "colab": {
          "base_uri": "https://localhost:8080/",
          "height": 334
        },
        "id": "rY0RBNwoCTBh",
        "outputId": "7381ff88-e7ac-4463-ffc3-cba681f61814"
      },
      "execution_count": null,
      "outputs": [
        {
          "name": "stdout",
          "output_type": "stream",
          "text": [
            "Digite año inicial2021\n",
            "Digite año final2022\n",
            "venta2021:300000\n",
            "venta2022:500000\n"
          ]
        },
        {
          "output_type": "display_data",
          "data": {
            "text/plain": [
              "<Figure size 432x288 with 1 Axes>"
            ],
            "image/png": "[encoded data removed]"
          },
          "metadata": {
            "needs_background": "light"
          }
        }
      ]
    },
    {
      "cell_type": "code",
      "source": [
        "from pandas.core import describe\n",
        "import pandas as pd\n",
        "import matplotlib.pyplot as plt\n",
        "import numpy as np\n",
        "\n",
        "\n",
        "def diagramabigotes(notas):\n",
        "  fig,ax = plt.subplots()\n",
        "  notas.plot(kind='box',ax=ax)\n",
        "  plt.xticks([])\n",
        "  plt.title(\"Diagama Bigotes Notas\");\n",
        "  return ax\n",
        "notas=[4,8,3.5,5,6.7,7,8,3.2,9.5,4.5]\n",
        "snota = pd.Series(notas)\n",
        "print(snota)\n",
        "diagramabigotes(snota)\n",
        "plt.show()\n",
        "snota.describe()"
      ],
      "metadata": {
        "colab": {
          "base_uri": "https://localhost:8080/",
          "height": 615
        },
        "id": "SPi_DW1RGg9i",
        "outputId": "52c2df00-422a-4a1e-dc15-7a9ee51a2b8a"
      },
      "execution_count": null,
      "outputs": [
        {
          "output_type": "stream",
          "name": "stdout",
          "text": [
            "0    4.0\n",
            "1    8.0\n",
            "2    3.5\n",
            "3    5.0\n",
            "4    6.7\n",
            "5    7.0\n",
            "6    8.0\n",
            "7    3.2\n",
            "8    9.5\n",
            "9    4.5\n",
            "dtype: float64\n"
          ]
        },
        {
          "output_type": "display_data",
          "data": {
            "text/plain": [
              "<Figure size 432x288 with 1 Axes>"
            ],
            "image/png": "[encoded data removed]"
          },
          "metadata": {
            "needs_background": "light"
          }
        },
        {
          "output_type": "execute_result",
          "data": {
            "text/plain": [
              "count    10.000000\n",
              "mean      5.940000\n",
              "std       2.186931\n",
              "min       3.200000\n",
              "25%       4.125000\n",
              "50%       5.850000\n",
              "75%       7.750000\n",
              "max       9.500000\n",
              "dtype: float64"
            ]
          },
          "metadata": {},
          "execution_count": 35
        }
      ]
    },
    {
      "cell_type": "markdown",
      "source": [
        "Listas indexadas https://favtutor.com/blogs/pandas-exercises-python"
      ],
      "metadata": {
        "id": "brPzHE9L7ydo"
      }
    },
    {
      "cell_type": "code",
      "source": [
        "import pandas as pd\n",
        "given_list = [2, 4, 5, 6, 9]\n",
        "\n",
        "series = pd.Series(given_list, index = [1, 3, 5, 7, 9])\n",
        "\n",
        "print(series)"
      ],
      "metadata": {
        "colab": {
          "base_uri": "https://localhost:8080/"
        },
        "id": "vX-sYGRR72o9",
        "outputId": "19d2fded-4263-42d0-d35f-92ecf014b862"
      },
      "execution_count": null,
      "outputs": [
        {
          "output_type": "stream",
          "name": "stdout",
          "text": [
            "1    2\n",
            "3    4\n",
            "5    5\n",
            "7    6\n",
            "9    9\n",
            "dtype: int64\n"
          ]
        }
      ]
    },
    {
      "cell_type": "code",
      "source": [
        "date_fechas = pd.date_range(start = '05-01-2021', end = '05-12-2021')\n",
        "print(date_fechas)\n",
        "date_fechas.to_excel('fechas.xlsx')"
      ],
      "metadata": {
        "id": "Y4tTb28J8jyt"
      },
      "execution_count": null,
      "outputs": []
    },
    {
      "cell_type": "code",
      "source": [
        "from matplotlib.figure import figaspect\n",
        "from google.colab import files\n",
        "\n",
        "dictionary = {'nombre': ['Juan', 'Maria', 'Victoria'],\n",
        "              'edad' : [22, 25, 24],\n",
        "              'profesion' : ['ingeniero', 'doctora', 'contadora'],\n",
        "               'sexo' : ['M', 'F', 'F'],\n",
        "              'estatura' : [1.70, 1.50, 1.80]}\n",
        "\n",
        "dataframe = pd.DataFrame(dictionary)\n",
        "print(dataframe)\n",
        "dataframe.to_excel('fechas.xlsx')\n",
        "files.download('fechas.xlsx')"
      ],
      "metadata": {
        "colab": {
          "base_uri": "https://localhost:8080/",
          "height": 86
        },
        "id": "HiDBoobf-swj",
        "outputId": "8f8d53bc-fd02-42cb-f805-caae926cd375"
      },
      "execution_count": null,
      "outputs": [
        {
          "output_type": "stream",
          "name": "stdout",
          "text": [
            "     nombre  edad  profesion sexo  estatura\n",
            "0      Juan    22  ingeniero    M       1.7\n",
            "1     Maria    25    doctora    F       1.5\n",
            "2  Victoria    24  contadora    F       1.8\n"
          ]
        },
        {
          "output_type": "display_data",
          "data": {
            "text/plain": [
              "<IPython.core.display.Javascript object>"
            ],
            "application/javascript": [
              "\n",
              "    async function download(id, filename, size) {\n",
              "      if (!google.colab.kernel.accessAllowed) {\n",
              "        return;\n",
              "      }\n",
              "      const div = document.createElement('div');\n",
              "      const label = document.createElement('label');\n",
              "      label.textContent = `Downloading \"${filename}\": `;\n",
              "      div.appendChild(label);\n",
              "      const progress = document.createElement('progress');\n",
              "      progress.max = size;\n",
              "      div.appendChild(progress);\n",
              "      document.body.appendChild(div);\n",
              "\n",
              "      const buffers = [];\n",
              "      let downloaded = 0;\n",
              "\n",
              "      const channel = await google.colab.kernel.comms.open(id);\n",
              "      // Send a message to notify the kernel that we're ready.\n",
              "      channel.send({})\n",
              "\n",
              "      for await (const message of channel.messages) {\n",
              "        // Send a message to notify the kernel that we're ready.\n",
              "        channel.send({})\n",
              "        if (message.buffers) {\n",
              "          for (const buffer of message.buffers) {\n",
              "            buffers.push(buffer);\n",
              "            downloaded += buffer.byteLength;\n",
              "            progress.value = downloaded;\n",
              "          }\n",
              "        }\n",
              "      }\n",
              "      const blob = new Blob(buffers, {type: 'application/binary'});\n",
              "      const a = document.createElement('a');\n",
              "      a.href = window.URL.createObjectURL(blob);\n",
              "      a.download = filename;\n",
              "      div.appendChild(a);\n",
              "      a.click();\n",
              "      div.remove();\n",
              "    }\n",
              "  "
            ]
          },
          "metadata": {}
        },
        {
          "output_type": "display_data",
          "data": {
            "text/plain": [
              "<IPython.core.display.Javascript object>"
            ],
            "application/javascript": [
              "download(\"download_275f5431-37b3-448e-89e6-2baa2bd73b16\", \"fechas.xlsx\", 5086)"
            ]
          },
          "metadata": {}
        }
      ]
    },
    {
      "cell_type": "code",
      "source": [
        "lists = [[2, 'Juan', 22],\n",
        "         [1, 'Victoria', 25],\n",
        "         [1, 'Aleja', 24]]\n",
        "\n",
        "dataframe = pd.DataFrame(lists, columns = ['id', 'nombre', 'edad'])\n",
        "\n",
        "print(dataframe)"
      ],
      "metadata": {
        "colab": {
          "base_uri": "https://localhost:8080/"
        },
        "id": "K-ecYmmpH9y6",
        "outputId": "e2f3de7a-3002-44db-c458-86468d2001bd"
      },
      "execution_count": null,
      "outputs": [
        {
          "output_type": "stream",
          "name": "stdout",
          "text": [
            "   id    nombre  edad\n",
            "0   2      Juan    22\n",
            "1   1  Victoria    25\n",
            "2   1     Aleja    24\n"
          ]
        }
      ]
    },
    {
      "cell_type": "code",
      "source": [
        "print(dataframe) # original dataframe\n",
        "\n",
        "print()\n",
        "\n",
        "dataframe= dataframe['nombre']\n",
        "print(dataframe)"
      ],
      "metadata": {
        "colab": {
          "base_uri": "https://localhost:8080/"
        },
        "id": "R0soQaUIJtpz",
        "outputId": "3d21e206-6112-44da-a995-d4aedc757f29"
      },
      "execution_count": null,
      "outputs": [
        {
          "output_type": "stream",
          "name": "stdout",
          "text": [
            "   id    nombre  edad\n",
            "0   2      Juan    22\n",
            "1   1  Victoria    25\n",
            "2   1     Aleja    24\n",
            "\n",
            "0        Juan\n",
            "1    Victoria\n",
            "2       Aleja\n",
            "Name: nombre, dtype: object\n"
          ]
        }
      ]
    },
    {
      "cell_type": "code",
      "source": [
        "print(dataframe) # original dataframe\n",
        "\n",
        "print()\n",
        "\n",
        "dataframe = dataframe.iloc[:,] # extracting the column 'name'\n",
        "\n",
        "print(dataframe)"
      ],
      "metadata": {
        "colab": {
          "base_uri": "https://localhost:8080/"
        },
        "id": "-07BR0bZKxGR",
        "outputId": "f7c37684-ec39-4e04-9e23-86a21ebde24e"
      },
      "execution_count": null,
      "outputs": [
        {
          "output_type": "stream",
          "name": "stdout",
          "text": [
            "0        Juan\n",
            "1    Victoria\n",
            "2       Aleja\n",
            "Name: nombre, dtype: object\n",
            "\n",
            "0        Juan\n",
            "1    Victoria\n",
            "2       Aleja\n",
            "Name: nombre, dtype: object\n"
          ]
        }
      ]
    },
    {
      "cell_type": "code",
      "source": [
        "import pandas as pd\n",
        "df=pd.read_csv('/home/act2.csv')\n",
        "print(df)"
      ],
      "metadata": {
        "id": "fAVucHBoRldW"
      },
      "execution_count": null,
      "outputs": []
    },
    {
      "cell_type": "code",
      "source": [
        "pip install mysql-connector-python"
      ],
      "metadata": {
        "colab": {
          "base_uri": "https://localhost:8080/"
        },
        "id": "nQIaJeXj9584",
        "outputId": "3b7c2dac-db61-4a99-dc4b-b28698d1ee1a"
      },
      "execution_count": 3,
      "outputs": [
        {
          "output_type": "stream",
          "name": "stdout",
          "text": [
            "Looking in indexes: https://pypi.org/simple, https://us-python.pkg.dev/colab-wheels/public/simple/\n",
            "Collecting mysql-connector-python\n",
            "  Downloading mysql_connector_python-8.0.30-cp37-cp37m-manylinux1_x86_64.whl (25.4 MB)\n",
            "\u001b[K     |████████████████████████████████| 25.4 MB 81.0 MB/s \n",
            "\u001b[?25hRequirement already satisfied: protobuf<=3.20.1,>=3.11.0 in /usr/local/lib/python3.7/dist-packages (from mysql-connector-python) (3.17.3)\n",
            "Requirement already satisfied: six>=1.9 in /usr/local/lib/python3.7/dist-packages (from protobuf<=3.20.1,>=3.11.0->mysql-connector-python) (1.15.0)\n",
            "Installing collected packages: mysql-connector-python\n",
            "Successfully installed mysql-connector-python-8.0.30\n"
          ]
        }
      ]
    },
    {
      "cell_type": "code",
      "source": [
        "HOST=us-east.connect.psdb.cloud\n",
        "USERNAME=ilf8u2fzrjhhsx6hfyhq\n",
        "PASSWORD=pscale_pw_mtsgqj3MTzm7cX65qlvA9Dd29qNF4XqjkCCXUPYoy2J\n",
        "DATABASE=mydb"
      ],
      "metadata": {
        "id": "eKoJl-UZ_iya"
      },
      "execution_count": null,
      "outputs": []
    },
    {
      "cell_type": "code",
      "source": [
        "import mysql.connector\n",
        "\n",
        "mydb = mysql.connector.connect(\n",
        "  host=\"us-east.connect.psdb.cloud\",\n",
        "  user=\"ilf8u2fzrjhhsx6hfyhq\",\n",
        "  password=\"pscale_pw_mtsgqj3MTzm7cX65qlvA9Dd29qNF4XqjkCCXUPYoy2J\",\n",
        "  database=\"mydb\"\n",
        ")\n",
        "\n",
        "mycursor = mydb.cursor()\n",
        "sql = \"INSERT INTO customers (name, address) VALUES (%s, %s)\"\n",
        "val = (\"John\", \"Highway 21\")\n",
        "mycursor.execute(sql, val)\n",
        "\n",
        "mydb.commit()\n",
        "\n",
        "print(mycursor.rowcount, \"record inserted.\")"
      ],
      "metadata": {
        "colab": {
          "base_uri": "https://localhost:8080/"
        },
        "id": "ieeVesE5ATPy",
        "outputId": "b34789a4-6e6c-4b7e-8b59-c67dce4cb26c"
      },
      "execution_count": 14,
      "outputs": [
        {
          "output_type": "stream",
          "name": "stdout",
          "text": [
            "1 record inserted.\n"
          ]
        }
      ]
    },
    {
      "cell_type": "code",
      "source": [],
      "metadata": {
        "id": "9AuYwtAqExM6"
      },
      "execution_count": null,
      "outputs": []
    }
  ]
}